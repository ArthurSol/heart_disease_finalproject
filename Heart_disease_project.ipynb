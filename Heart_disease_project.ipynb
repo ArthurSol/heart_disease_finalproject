{
 "cells": [
  {
   "cell_type": "markdown",
   "id": "4b8154dc-82c2-41ac-953d-d0409b6f936e",
   "metadata": {},
   "source": [
    "INTRODUCTION: \n",
    "\n",
    "Cardiovascular diseases are responsible for 17.9 million premature deaths per year (WHO, 2021). From coronary heart disease to myocardial infarctions, multiple symptoms account for the disease classification of cardiovascular diseases. A data set published by the University of California Irvine subsets 14 out of 76 attributes or symptoms of heart disease. This project aims to compare the presence or absence of these 14 attributes and its relationship to the diagnosis of heart disease based on the published data set. The overall goal of this project is to answer the question, which of the following 14 attributes is strongly correlated to the diagnosis of heart disease?\n",
    "\n"
   ]
  },
  {
   "cell_type": "markdown",
   "id": "79236044-041c-448a-b78e-a583b64764e4",
   "metadata": {},
   "source": [
    "PRELIMENARY DATA ANAYLYSIS: \n",
    "\n",
    "The  following data involves an initial exploratory data analysis that encompasses cleaning and transforming the data into a tidy format, generating summary tables from the training data for observational analysis, and producing relevant visualizations that aid in comprehending the distribution of each variable."
   ]
  },
  {
   "cell_type": "code",
   "execution_count": 33,
   "id": "f7d275d4-ce52-4237-b732-4fb6b5a96844",
   "metadata": {},
   "outputs": [],
   "source": [
    "#libraries to install\n",
    "library(tidyverse)\n",
    "library(repr)\n",
    "library(readxl)\n",
    "library(tidymodels)"
   ]
  },
  {
   "cell_type": "code",
   "execution_count": 34,
   "id": "adf91423-7eb1-4396-9654-e36200dee1f9",
   "metadata": {},
   "outputs": [
    {
     "name": "stderr",
     "output_type": "stream",
     "text": [
      "\u001b[1mRows: \u001b[22m\u001b[34m1025\u001b[39m \u001b[1mColumns: \u001b[22m\u001b[34m14\u001b[39m\n",
      "\u001b[36m──\u001b[39m \u001b[1mColumn specification\u001b[22m \u001b[36m────────────────────────────────────────────────────────\u001b[39m\n",
      "\u001b[1mDelimiter:\u001b[22m \",\"\n",
      "\u001b[32mdbl\u001b[39m (14): age, sex, cp, trestbps, chol, fbs, restecg, thalach, exang, oldpea...\n",
      "\n",
      "\u001b[36mℹ\u001b[39m Use `spec()` to retrieve the full column specification for this data.\n",
      "\u001b[36mℹ\u001b[39m Specify the column types or set `show_col_types = FALSE` to quiet this message.\n"
     ]
    },
    {
     "data": {
      "text/html": [
       "<table class=\"dataframe\">\n",
       "<caption>A tibble: 1025 × 14</caption>\n",
       "<thead>\n",
       "\t<tr><th scope=col>age</th><th scope=col>sex</th><th scope=col>cp</th><th scope=col>trestbps</th><th scope=col>chol</th><th scope=col>fbs</th><th scope=col>restecg</th><th scope=col>thalach</th><th scope=col>exang</th><th scope=col>oldpeak</th><th scope=col>slope</th><th scope=col>ca</th><th scope=col>thal</th><th scope=col>target</th></tr>\n",
       "\t<tr><th scope=col>&lt;dbl&gt;</th><th scope=col>&lt;dbl&gt;</th><th scope=col>&lt;dbl&gt;</th><th scope=col>&lt;dbl&gt;</th><th scope=col>&lt;dbl&gt;</th><th scope=col>&lt;dbl&gt;</th><th scope=col>&lt;dbl&gt;</th><th scope=col>&lt;dbl&gt;</th><th scope=col>&lt;dbl&gt;</th><th scope=col>&lt;dbl&gt;</th><th scope=col>&lt;dbl&gt;</th><th scope=col>&lt;dbl&gt;</th><th scope=col>&lt;dbl&gt;</th><th scope=col>&lt;fct&gt;</th></tr>\n",
       "</thead>\n",
       "<tbody>\n",
       "\t<tr><td>52</td><td>1</td><td>0</td><td>125</td><td>212</td><td>0</td><td>1</td><td>168</td><td>0</td><td>1.0</td><td>2</td><td>2</td><td>3</td><td>0</td></tr>\n",
       "\t<tr><td>53</td><td>1</td><td>0</td><td>140</td><td>203</td><td>1</td><td>0</td><td>155</td><td>1</td><td>3.1</td><td>0</td><td>0</td><td>3</td><td>0</td></tr>\n",
       "\t<tr><td>70</td><td>1</td><td>0</td><td>145</td><td>174</td><td>0</td><td>1</td><td>125</td><td>1</td><td>2.6</td><td>0</td><td>0</td><td>3</td><td>0</td></tr>\n",
       "\t<tr><td>61</td><td>1</td><td>0</td><td>148</td><td>203</td><td>0</td><td>1</td><td>161</td><td>0</td><td>0.0</td><td>2</td><td>1</td><td>3</td><td>0</td></tr>\n",
       "\t<tr><td>62</td><td>0</td><td>0</td><td>138</td><td>294</td><td>1</td><td>1</td><td>106</td><td>0</td><td>1.9</td><td>1</td><td>3</td><td>2</td><td>0</td></tr>\n",
       "\t<tr><td>58</td><td>0</td><td>0</td><td>100</td><td>248</td><td>0</td><td>0</td><td>122</td><td>0</td><td>1.0</td><td>1</td><td>0</td><td>2</td><td>1</td></tr>\n",
       "\t<tr><td>58</td><td>1</td><td>0</td><td>114</td><td>318</td><td>0</td><td>2</td><td>140</td><td>0</td><td>4.4</td><td>0</td><td>3</td><td>1</td><td>0</td></tr>\n",
       "\t<tr><td>55</td><td>1</td><td>0</td><td>160</td><td>289</td><td>0</td><td>0</td><td>145</td><td>1</td><td>0.8</td><td>1</td><td>1</td><td>3</td><td>0</td></tr>\n",
       "\t<tr><td>46</td><td>1</td><td>0</td><td>120</td><td>249</td><td>0</td><td>0</td><td>144</td><td>0</td><td>0.8</td><td>2</td><td>0</td><td>3</td><td>0</td></tr>\n",
       "\t<tr><td>54</td><td>1</td><td>0</td><td>122</td><td>286</td><td>0</td><td>0</td><td>116</td><td>1</td><td>3.2</td><td>1</td><td>2</td><td>2</td><td>0</td></tr>\n",
       "\t<tr><td>71</td><td>0</td><td>0</td><td>112</td><td>149</td><td>0</td><td>1</td><td>125</td><td>0</td><td>1.6</td><td>1</td><td>0</td><td>2</td><td>1</td></tr>\n",
       "\t<tr><td>43</td><td>0</td><td>0</td><td>132</td><td>341</td><td>1</td><td>0</td><td>136</td><td>1</td><td>3.0</td><td>1</td><td>0</td><td>3</td><td>0</td></tr>\n",
       "\t<tr><td>34</td><td>0</td><td>1</td><td>118</td><td>210</td><td>0</td><td>1</td><td>192</td><td>0</td><td>0.7</td><td>2</td><td>0</td><td>2</td><td>1</td></tr>\n",
       "\t<tr><td>51</td><td>1</td><td>0</td><td>140</td><td>298</td><td>0</td><td>1</td><td>122</td><td>1</td><td>4.2</td><td>1</td><td>3</td><td>3</td><td>0</td></tr>\n",
       "\t<tr><td>52</td><td>1</td><td>0</td><td>128</td><td>204</td><td>1</td><td>1</td><td>156</td><td>1</td><td>1.0</td><td>1</td><td>0</td><td>0</td><td>0</td></tr>\n",
       "\t<tr><td>34</td><td>0</td><td>1</td><td>118</td><td>210</td><td>0</td><td>1</td><td>192</td><td>0</td><td>0.7</td><td>2</td><td>0</td><td>2</td><td>1</td></tr>\n",
       "\t<tr><td>51</td><td>0</td><td>2</td><td>140</td><td>308</td><td>0</td><td>0</td><td>142</td><td>0</td><td>1.5</td><td>2</td><td>1</td><td>2</td><td>1</td></tr>\n",
       "\t<tr><td>54</td><td>1</td><td>0</td><td>124</td><td>266</td><td>0</td><td>0</td><td>109</td><td>1</td><td>2.2</td><td>1</td><td>1</td><td>3</td><td>0</td></tr>\n",
       "\t<tr><td>50</td><td>0</td><td>1</td><td>120</td><td>244</td><td>0</td><td>1</td><td>162</td><td>0</td><td>1.1</td><td>2</td><td>0</td><td>2</td><td>1</td></tr>\n",
       "\t<tr><td>58</td><td>1</td><td>2</td><td>140</td><td>211</td><td>1</td><td>0</td><td>165</td><td>0</td><td>0.0</td><td>2</td><td>0</td><td>2</td><td>1</td></tr>\n",
       "\t<tr><td>60</td><td>1</td><td>2</td><td>140</td><td>185</td><td>0</td><td>0</td><td>155</td><td>0</td><td>3.0</td><td>1</td><td>0</td><td>2</td><td>0</td></tr>\n",
       "\t<tr><td>67</td><td>0</td><td>0</td><td>106</td><td>223</td><td>0</td><td>1</td><td>142</td><td>0</td><td>0.3</td><td>2</td><td>2</td><td>2</td><td>1</td></tr>\n",
       "\t<tr><td>45</td><td>1</td><td>0</td><td>104</td><td>208</td><td>0</td><td>0</td><td>148</td><td>1</td><td>3.0</td><td>1</td><td>0</td><td>2</td><td>1</td></tr>\n",
       "\t<tr><td>63</td><td>0</td><td>2</td><td>135</td><td>252</td><td>0</td><td>0</td><td>172</td><td>0</td><td>0.0</td><td>2</td><td>0</td><td>2</td><td>1</td></tr>\n",
       "\t<tr><td>42</td><td>0</td><td>2</td><td>120</td><td>209</td><td>0</td><td>1</td><td>173</td><td>0</td><td>0.0</td><td>1</td><td>0</td><td>2</td><td>1</td></tr>\n",
       "\t<tr><td>61</td><td>0</td><td>0</td><td>145</td><td>307</td><td>0</td><td>0</td><td>146</td><td>1</td><td>1.0</td><td>1</td><td>0</td><td>3</td><td>0</td></tr>\n",
       "\t<tr><td>44</td><td>1</td><td>2</td><td>130</td><td>233</td><td>0</td><td>1</td><td>179</td><td>1</td><td>0.4</td><td>2</td><td>0</td><td>2</td><td>1</td></tr>\n",
       "\t<tr><td>58</td><td>0</td><td>1</td><td>136</td><td>319</td><td>1</td><td>0</td><td>152</td><td>0</td><td>0.0</td><td>2</td><td>2</td><td>2</td><td>0</td></tr>\n",
       "\t<tr><td>56</td><td>1</td><td>2</td><td>130</td><td>256</td><td>1</td><td>0</td><td>142</td><td>1</td><td>0.6</td><td>1</td><td>1</td><td>1</td><td>0</td></tr>\n",
       "\t<tr><td>55</td><td>0</td><td>0</td><td>180</td><td>327</td><td>0</td><td>2</td><td>117</td><td>1</td><td>3.4</td><td>1</td><td>0</td><td>2</td><td>0</td></tr>\n",
       "\t<tr><td>⋮</td><td>⋮</td><td>⋮</td><td>⋮</td><td>⋮</td><td>⋮</td><td>⋮</td><td>⋮</td><td>⋮</td><td>⋮</td><td>⋮</td><td>⋮</td><td>⋮</td><td>⋮</td></tr>\n",
       "\t<tr><td>44</td><td>1</td><td>1</td><td>120</td><td>263</td><td>0</td><td>1</td><td>173</td><td>0</td><td>0.0</td><td>2</td><td>0</td><td>3</td><td>1</td></tr>\n",
       "\t<tr><td>56</td><td>0</td><td>0</td><td>134</td><td>409</td><td>0</td><td>0</td><td>150</td><td>1</td><td>1.9</td><td>1</td><td>2</td><td>3</td><td>0</td></tr>\n",
       "\t<tr><td>54</td><td>1</td><td>0</td><td>120</td><td>188</td><td>0</td><td>1</td><td>113</td><td>0</td><td>1.4</td><td>1</td><td>1</td><td>3</td><td>0</td></tr>\n",
       "\t<tr><td>42</td><td>1</td><td>0</td><td>136</td><td>315</td><td>0</td><td>1</td><td>125</td><td>1</td><td>1.8</td><td>1</td><td>0</td><td>1</td><td>0</td></tr>\n",
       "\t<tr><td>67</td><td>1</td><td>0</td><td>125</td><td>254</td><td>1</td><td>1</td><td>163</td><td>0</td><td>0.2</td><td>1</td><td>2</td><td>3</td><td>0</td></tr>\n",
       "\t<tr><td>64</td><td>1</td><td>0</td><td>145</td><td>212</td><td>0</td><td>0</td><td>132</td><td>0</td><td>2.0</td><td>1</td><td>2</td><td>1</td><td>0</td></tr>\n",
       "\t<tr><td>42</td><td>1</td><td>0</td><td>140</td><td>226</td><td>0</td><td>1</td><td>178</td><td>0</td><td>0.0</td><td>2</td><td>0</td><td>2</td><td>1</td></tr>\n",
       "\t<tr><td>66</td><td>1</td><td>0</td><td>112</td><td>212</td><td>0</td><td>0</td><td>132</td><td>1</td><td>0.1</td><td>2</td><td>1</td><td>2</td><td>0</td></tr>\n",
       "\t<tr><td>52</td><td>1</td><td>0</td><td>108</td><td>233</td><td>1</td><td>1</td><td>147</td><td>0</td><td>0.1</td><td>2</td><td>3</td><td>3</td><td>1</td></tr>\n",
       "\t<tr><td>51</td><td>0</td><td>2</td><td>140</td><td>308</td><td>0</td><td>0</td><td>142</td><td>0</td><td>1.5</td><td>2</td><td>1</td><td>2</td><td>1</td></tr>\n",
       "\t<tr><td>55</td><td>0</td><td>0</td><td>128</td><td>205</td><td>0</td><td>2</td><td>130</td><td>1</td><td>2.0</td><td>1</td><td>1</td><td>3</td><td>0</td></tr>\n",
       "\t<tr><td>58</td><td>1</td><td>2</td><td>140</td><td>211</td><td>1</td><td>0</td><td>165</td><td>0</td><td>0.0</td><td>2</td><td>0</td><td>2</td><td>1</td></tr>\n",
       "\t<tr><td>56</td><td>1</td><td>3</td><td>120</td><td>193</td><td>0</td><td>0</td><td>162</td><td>0</td><td>1.9</td><td>1</td><td>0</td><td>3</td><td>1</td></tr>\n",
       "\t<tr><td>42</td><td>1</td><td>1</td><td>120</td><td>295</td><td>0</td><td>1</td><td>162</td><td>0</td><td>0.0</td><td>2</td><td>0</td><td>2</td><td>1</td></tr>\n",
       "\t<tr><td>40</td><td>1</td><td>0</td><td>152</td><td>223</td><td>0</td><td>1</td><td>181</td><td>0</td><td>0.0</td><td>2</td><td>0</td><td>3</td><td>0</td></tr>\n",
       "\t<tr><td>51</td><td>1</td><td>0</td><td>140</td><td>299</td><td>0</td><td>1</td><td>173</td><td>1</td><td>1.6</td><td>2</td><td>0</td><td>3</td><td>0</td></tr>\n",
       "\t<tr><td>45</td><td>1</td><td>1</td><td>128</td><td>308</td><td>0</td><td>0</td><td>170</td><td>0</td><td>0.0</td><td>2</td><td>0</td><td>2</td><td>1</td></tr>\n",
       "\t<tr><td>48</td><td>1</td><td>1</td><td>110</td><td>229</td><td>0</td><td>1</td><td>168</td><td>0</td><td>1.0</td><td>0</td><td>0</td><td>3</td><td>0</td></tr>\n",
       "\t<tr><td>58</td><td>1</td><td>0</td><td>114</td><td>318</td><td>0</td><td>2</td><td>140</td><td>0</td><td>4.4</td><td>0</td><td>3</td><td>1</td><td>0</td></tr>\n",
       "\t<tr><td>44</td><td>0</td><td>2</td><td>108</td><td>141</td><td>0</td><td>1</td><td>175</td><td>0</td><td>0.6</td><td>1</td><td>0</td><td>2</td><td>1</td></tr>\n",
       "\t<tr><td>58</td><td>1</td><td>0</td><td>128</td><td>216</td><td>0</td><td>0</td><td>131</td><td>1</td><td>2.2</td><td>1</td><td>3</td><td>3</td><td>0</td></tr>\n",
       "\t<tr><td>65</td><td>1</td><td>3</td><td>138</td><td>282</td><td>1</td><td>0</td><td>174</td><td>0</td><td>1.4</td><td>1</td><td>1</td><td>2</td><td>0</td></tr>\n",
       "\t<tr><td>53</td><td>1</td><td>0</td><td>123</td><td>282</td><td>0</td><td>1</td><td> 95</td><td>1</td><td>2.0</td><td>1</td><td>2</td><td>3</td><td>0</td></tr>\n",
       "\t<tr><td>41</td><td>1</td><td>0</td><td>110</td><td>172</td><td>0</td><td>0</td><td>158</td><td>0</td><td>0.0</td><td>2</td><td>0</td><td>3</td><td>0</td></tr>\n",
       "\t<tr><td>47</td><td>1</td><td>0</td><td>112</td><td>204</td><td>0</td><td>1</td><td>143</td><td>0</td><td>0.1</td><td>2</td><td>0</td><td>2</td><td>1</td></tr>\n",
       "\t<tr><td>59</td><td>1</td><td>1</td><td>140</td><td>221</td><td>0</td><td>1</td><td>164</td><td>1</td><td>0.0</td><td>2</td><td>0</td><td>2</td><td>1</td></tr>\n",
       "\t<tr><td>60</td><td>1</td><td>0</td><td>125</td><td>258</td><td>0</td><td>0</td><td>141</td><td>1</td><td>2.8</td><td>1</td><td>1</td><td>3</td><td>0</td></tr>\n",
       "\t<tr><td>47</td><td>1</td><td>0</td><td>110</td><td>275</td><td>0</td><td>0</td><td>118</td><td>1</td><td>1.0</td><td>1</td><td>1</td><td>2</td><td>0</td></tr>\n",
       "\t<tr><td>50</td><td>0</td><td>0</td><td>110</td><td>254</td><td>0</td><td>0</td><td>159</td><td>0</td><td>0.0</td><td>2</td><td>0</td><td>2</td><td>1</td></tr>\n",
       "\t<tr><td>54</td><td>1</td><td>0</td><td>120</td><td>188</td><td>0</td><td>1</td><td>113</td><td>0</td><td>1.4</td><td>1</td><td>1</td><td>3</td><td>0</td></tr>\n",
       "</tbody>\n",
       "</table>\n"
      ],
      "text/latex": [
       "A tibble: 1025 × 14\n",
       "\\begin{tabular}{llllllllllllll}\n",
       " age & sex & cp & trestbps & chol & fbs & restecg & thalach & exang & oldpeak & slope & ca & thal & target\\\\\n",
       " <dbl> & <dbl> & <dbl> & <dbl> & <dbl> & <dbl> & <dbl> & <dbl> & <dbl> & <dbl> & <dbl> & <dbl> & <dbl> & <fct>\\\\\n",
       "\\hline\n",
       "\t 52 & 1 & 0 & 125 & 212 & 0 & 1 & 168 & 0 & 1.0 & 2 & 2 & 3 & 0\\\\\n",
       "\t 53 & 1 & 0 & 140 & 203 & 1 & 0 & 155 & 1 & 3.1 & 0 & 0 & 3 & 0\\\\\n",
       "\t 70 & 1 & 0 & 145 & 174 & 0 & 1 & 125 & 1 & 2.6 & 0 & 0 & 3 & 0\\\\\n",
       "\t 61 & 1 & 0 & 148 & 203 & 0 & 1 & 161 & 0 & 0.0 & 2 & 1 & 3 & 0\\\\\n",
       "\t 62 & 0 & 0 & 138 & 294 & 1 & 1 & 106 & 0 & 1.9 & 1 & 3 & 2 & 0\\\\\n",
       "\t 58 & 0 & 0 & 100 & 248 & 0 & 0 & 122 & 0 & 1.0 & 1 & 0 & 2 & 1\\\\\n",
       "\t 58 & 1 & 0 & 114 & 318 & 0 & 2 & 140 & 0 & 4.4 & 0 & 3 & 1 & 0\\\\\n",
       "\t 55 & 1 & 0 & 160 & 289 & 0 & 0 & 145 & 1 & 0.8 & 1 & 1 & 3 & 0\\\\\n",
       "\t 46 & 1 & 0 & 120 & 249 & 0 & 0 & 144 & 0 & 0.8 & 2 & 0 & 3 & 0\\\\\n",
       "\t 54 & 1 & 0 & 122 & 286 & 0 & 0 & 116 & 1 & 3.2 & 1 & 2 & 2 & 0\\\\\n",
       "\t 71 & 0 & 0 & 112 & 149 & 0 & 1 & 125 & 0 & 1.6 & 1 & 0 & 2 & 1\\\\\n",
       "\t 43 & 0 & 0 & 132 & 341 & 1 & 0 & 136 & 1 & 3.0 & 1 & 0 & 3 & 0\\\\\n",
       "\t 34 & 0 & 1 & 118 & 210 & 0 & 1 & 192 & 0 & 0.7 & 2 & 0 & 2 & 1\\\\\n",
       "\t 51 & 1 & 0 & 140 & 298 & 0 & 1 & 122 & 1 & 4.2 & 1 & 3 & 3 & 0\\\\\n",
       "\t 52 & 1 & 0 & 128 & 204 & 1 & 1 & 156 & 1 & 1.0 & 1 & 0 & 0 & 0\\\\\n",
       "\t 34 & 0 & 1 & 118 & 210 & 0 & 1 & 192 & 0 & 0.7 & 2 & 0 & 2 & 1\\\\\n",
       "\t 51 & 0 & 2 & 140 & 308 & 0 & 0 & 142 & 0 & 1.5 & 2 & 1 & 2 & 1\\\\\n",
       "\t 54 & 1 & 0 & 124 & 266 & 0 & 0 & 109 & 1 & 2.2 & 1 & 1 & 3 & 0\\\\\n",
       "\t 50 & 0 & 1 & 120 & 244 & 0 & 1 & 162 & 0 & 1.1 & 2 & 0 & 2 & 1\\\\\n",
       "\t 58 & 1 & 2 & 140 & 211 & 1 & 0 & 165 & 0 & 0.0 & 2 & 0 & 2 & 1\\\\\n",
       "\t 60 & 1 & 2 & 140 & 185 & 0 & 0 & 155 & 0 & 3.0 & 1 & 0 & 2 & 0\\\\\n",
       "\t 67 & 0 & 0 & 106 & 223 & 0 & 1 & 142 & 0 & 0.3 & 2 & 2 & 2 & 1\\\\\n",
       "\t 45 & 1 & 0 & 104 & 208 & 0 & 0 & 148 & 1 & 3.0 & 1 & 0 & 2 & 1\\\\\n",
       "\t 63 & 0 & 2 & 135 & 252 & 0 & 0 & 172 & 0 & 0.0 & 2 & 0 & 2 & 1\\\\\n",
       "\t 42 & 0 & 2 & 120 & 209 & 0 & 1 & 173 & 0 & 0.0 & 1 & 0 & 2 & 1\\\\\n",
       "\t 61 & 0 & 0 & 145 & 307 & 0 & 0 & 146 & 1 & 1.0 & 1 & 0 & 3 & 0\\\\\n",
       "\t 44 & 1 & 2 & 130 & 233 & 0 & 1 & 179 & 1 & 0.4 & 2 & 0 & 2 & 1\\\\\n",
       "\t 58 & 0 & 1 & 136 & 319 & 1 & 0 & 152 & 0 & 0.0 & 2 & 2 & 2 & 0\\\\\n",
       "\t 56 & 1 & 2 & 130 & 256 & 1 & 0 & 142 & 1 & 0.6 & 1 & 1 & 1 & 0\\\\\n",
       "\t 55 & 0 & 0 & 180 & 327 & 0 & 2 & 117 & 1 & 3.4 & 1 & 0 & 2 & 0\\\\\n",
       "\t ⋮ & ⋮ & ⋮ & ⋮ & ⋮ & ⋮ & ⋮ & ⋮ & ⋮ & ⋮ & ⋮ & ⋮ & ⋮ & ⋮\\\\\n",
       "\t 44 & 1 & 1 & 120 & 263 & 0 & 1 & 173 & 0 & 0.0 & 2 & 0 & 3 & 1\\\\\n",
       "\t 56 & 0 & 0 & 134 & 409 & 0 & 0 & 150 & 1 & 1.9 & 1 & 2 & 3 & 0\\\\\n",
       "\t 54 & 1 & 0 & 120 & 188 & 0 & 1 & 113 & 0 & 1.4 & 1 & 1 & 3 & 0\\\\\n",
       "\t 42 & 1 & 0 & 136 & 315 & 0 & 1 & 125 & 1 & 1.8 & 1 & 0 & 1 & 0\\\\\n",
       "\t 67 & 1 & 0 & 125 & 254 & 1 & 1 & 163 & 0 & 0.2 & 1 & 2 & 3 & 0\\\\\n",
       "\t 64 & 1 & 0 & 145 & 212 & 0 & 0 & 132 & 0 & 2.0 & 1 & 2 & 1 & 0\\\\\n",
       "\t 42 & 1 & 0 & 140 & 226 & 0 & 1 & 178 & 0 & 0.0 & 2 & 0 & 2 & 1\\\\\n",
       "\t 66 & 1 & 0 & 112 & 212 & 0 & 0 & 132 & 1 & 0.1 & 2 & 1 & 2 & 0\\\\\n",
       "\t 52 & 1 & 0 & 108 & 233 & 1 & 1 & 147 & 0 & 0.1 & 2 & 3 & 3 & 1\\\\\n",
       "\t 51 & 0 & 2 & 140 & 308 & 0 & 0 & 142 & 0 & 1.5 & 2 & 1 & 2 & 1\\\\\n",
       "\t 55 & 0 & 0 & 128 & 205 & 0 & 2 & 130 & 1 & 2.0 & 1 & 1 & 3 & 0\\\\\n",
       "\t 58 & 1 & 2 & 140 & 211 & 1 & 0 & 165 & 0 & 0.0 & 2 & 0 & 2 & 1\\\\\n",
       "\t 56 & 1 & 3 & 120 & 193 & 0 & 0 & 162 & 0 & 1.9 & 1 & 0 & 3 & 1\\\\\n",
       "\t 42 & 1 & 1 & 120 & 295 & 0 & 1 & 162 & 0 & 0.0 & 2 & 0 & 2 & 1\\\\\n",
       "\t 40 & 1 & 0 & 152 & 223 & 0 & 1 & 181 & 0 & 0.0 & 2 & 0 & 3 & 0\\\\\n",
       "\t 51 & 1 & 0 & 140 & 299 & 0 & 1 & 173 & 1 & 1.6 & 2 & 0 & 3 & 0\\\\\n",
       "\t 45 & 1 & 1 & 128 & 308 & 0 & 0 & 170 & 0 & 0.0 & 2 & 0 & 2 & 1\\\\\n",
       "\t 48 & 1 & 1 & 110 & 229 & 0 & 1 & 168 & 0 & 1.0 & 0 & 0 & 3 & 0\\\\\n",
       "\t 58 & 1 & 0 & 114 & 318 & 0 & 2 & 140 & 0 & 4.4 & 0 & 3 & 1 & 0\\\\\n",
       "\t 44 & 0 & 2 & 108 & 141 & 0 & 1 & 175 & 0 & 0.6 & 1 & 0 & 2 & 1\\\\\n",
       "\t 58 & 1 & 0 & 128 & 216 & 0 & 0 & 131 & 1 & 2.2 & 1 & 3 & 3 & 0\\\\\n",
       "\t 65 & 1 & 3 & 138 & 282 & 1 & 0 & 174 & 0 & 1.4 & 1 & 1 & 2 & 0\\\\\n",
       "\t 53 & 1 & 0 & 123 & 282 & 0 & 1 &  95 & 1 & 2.0 & 1 & 2 & 3 & 0\\\\\n",
       "\t 41 & 1 & 0 & 110 & 172 & 0 & 0 & 158 & 0 & 0.0 & 2 & 0 & 3 & 0\\\\\n",
       "\t 47 & 1 & 0 & 112 & 204 & 0 & 1 & 143 & 0 & 0.1 & 2 & 0 & 2 & 1\\\\\n",
       "\t 59 & 1 & 1 & 140 & 221 & 0 & 1 & 164 & 1 & 0.0 & 2 & 0 & 2 & 1\\\\\n",
       "\t 60 & 1 & 0 & 125 & 258 & 0 & 0 & 141 & 1 & 2.8 & 1 & 1 & 3 & 0\\\\\n",
       "\t 47 & 1 & 0 & 110 & 275 & 0 & 0 & 118 & 1 & 1.0 & 1 & 1 & 2 & 0\\\\\n",
       "\t 50 & 0 & 0 & 110 & 254 & 0 & 0 & 159 & 0 & 0.0 & 2 & 0 & 2 & 1\\\\\n",
       "\t 54 & 1 & 0 & 120 & 188 & 0 & 1 & 113 & 0 & 1.4 & 1 & 1 & 3 & 0\\\\\n",
       "\\end{tabular}\n"
      ],
      "text/markdown": [
       "\n",
       "A tibble: 1025 × 14\n",
       "\n",
       "| age &lt;dbl&gt; | sex &lt;dbl&gt; | cp &lt;dbl&gt; | trestbps &lt;dbl&gt; | chol &lt;dbl&gt; | fbs &lt;dbl&gt; | restecg &lt;dbl&gt; | thalach &lt;dbl&gt; | exang &lt;dbl&gt; | oldpeak &lt;dbl&gt; | slope &lt;dbl&gt; | ca &lt;dbl&gt; | thal &lt;dbl&gt; | target &lt;fct&gt; |\n",
       "|---|---|---|---|---|---|---|---|---|---|---|---|---|---|\n",
       "| 52 | 1 | 0 | 125 | 212 | 0 | 1 | 168 | 0 | 1.0 | 2 | 2 | 3 | 0 |\n",
       "| 53 | 1 | 0 | 140 | 203 | 1 | 0 | 155 | 1 | 3.1 | 0 | 0 | 3 | 0 |\n",
       "| 70 | 1 | 0 | 145 | 174 | 0 | 1 | 125 | 1 | 2.6 | 0 | 0 | 3 | 0 |\n",
       "| 61 | 1 | 0 | 148 | 203 | 0 | 1 | 161 | 0 | 0.0 | 2 | 1 | 3 | 0 |\n",
       "| 62 | 0 | 0 | 138 | 294 | 1 | 1 | 106 | 0 | 1.9 | 1 | 3 | 2 | 0 |\n",
       "| 58 | 0 | 0 | 100 | 248 | 0 | 0 | 122 | 0 | 1.0 | 1 | 0 | 2 | 1 |\n",
       "| 58 | 1 | 0 | 114 | 318 | 0 | 2 | 140 | 0 | 4.4 | 0 | 3 | 1 | 0 |\n",
       "| 55 | 1 | 0 | 160 | 289 | 0 | 0 | 145 | 1 | 0.8 | 1 | 1 | 3 | 0 |\n",
       "| 46 | 1 | 0 | 120 | 249 | 0 | 0 | 144 | 0 | 0.8 | 2 | 0 | 3 | 0 |\n",
       "| 54 | 1 | 0 | 122 | 286 | 0 | 0 | 116 | 1 | 3.2 | 1 | 2 | 2 | 0 |\n",
       "| 71 | 0 | 0 | 112 | 149 | 0 | 1 | 125 | 0 | 1.6 | 1 | 0 | 2 | 1 |\n",
       "| 43 | 0 | 0 | 132 | 341 | 1 | 0 | 136 | 1 | 3.0 | 1 | 0 | 3 | 0 |\n",
       "| 34 | 0 | 1 | 118 | 210 | 0 | 1 | 192 | 0 | 0.7 | 2 | 0 | 2 | 1 |\n",
       "| 51 | 1 | 0 | 140 | 298 | 0 | 1 | 122 | 1 | 4.2 | 1 | 3 | 3 | 0 |\n",
       "| 52 | 1 | 0 | 128 | 204 | 1 | 1 | 156 | 1 | 1.0 | 1 | 0 | 0 | 0 |\n",
       "| 34 | 0 | 1 | 118 | 210 | 0 | 1 | 192 | 0 | 0.7 | 2 | 0 | 2 | 1 |\n",
       "| 51 | 0 | 2 | 140 | 308 | 0 | 0 | 142 | 0 | 1.5 | 2 | 1 | 2 | 1 |\n",
       "| 54 | 1 | 0 | 124 | 266 | 0 | 0 | 109 | 1 | 2.2 | 1 | 1 | 3 | 0 |\n",
       "| 50 | 0 | 1 | 120 | 244 | 0 | 1 | 162 | 0 | 1.1 | 2 | 0 | 2 | 1 |\n",
       "| 58 | 1 | 2 | 140 | 211 | 1 | 0 | 165 | 0 | 0.0 | 2 | 0 | 2 | 1 |\n",
       "| 60 | 1 | 2 | 140 | 185 | 0 | 0 | 155 | 0 | 3.0 | 1 | 0 | 2 | 0 |\n",
       "| 67 | 0 | 0 | 106 | 223 | 0 | 1 | 142 | 0 | 0.3 | 2 | 2 | 2 | 1 |\n",
       "| 45 | 1 | 0 | 104 | 208 | 0 | 0 | 148 | 1 | 3.0 | 1 | 0 | 2 | 1 |\n",
       "| 63 | 0 | 2 | 135 | 252 | 0 | 0 | 172 | 0 | 0.0 | 2 | 0 | 2 | 1 |\n",
       "| 42 | 0 | 2 | 120 | 209 | 0 | 1 | 173 | 0 | 0.0 | 1 | 0 | 2 | 1 |\n",
       "| 61 | 0 | 0 | 145 | 307 | 0 | 0 | 146 | 1 | 1.0 | 1 | 0 | 3 | 0 |\n",
       "| 44 | 1 | 2 | 130 | 233 | 0 | 1 | 179 | 1 | 0.4 | 2 | 0 | 2 | 1 |\n",
       "| 58 | 0 | 1 | 136 | 319 | 1 | 0 | 152 | 0 | 0.0 | 2 | 2 | 2 | 0 |\n",
       "| 56 | 1 | 2 | 130 | 256 | 1 | 0 | 142 | 1 | 0.6 | 1 | 1 | 1 | 0 |\n",
       "| 55 | 0 | 0 | 180 | 327 | 0 | 2 | 117 | 1 | 3.4 | 1 | 0 | 2 | 0 |\n",
       "| ⋮ | ⋮ | ⋮ | ⋮ | ⋮ | ⋮ | ⋮ | ⋮ | ⋮ | ⋮ | ⋮ | ⋮ | ⋮ | ⋮ |\n",
       "| 44 | 1 | 1 | 120 | 263 | 0 | 1 | 173 | 0 | 0.0 | 2 | 0 | 3 | 1 |\n",
       "| 56 | 0 | 0 | 134 | 409 | 0 | 0 | 150 | 1 | 1.9 | 1 | 2 | 3 | 0 |\n",
       "| 54 | 1 | 0 | 120 | 188 | 0 | 1 | 113 | 0 | 1.4 | 1 | 1 | 3 | 0 |\n",
       "| 42 | 1 | 0 | 136 | 315 | 0 | 1 | 125 | 1 | 1.8 | 1 | 0 | 1 | 0 |\n",
       "| 67 | 1 | 0 | 125 | 254 | 1 | 1 | 163 | 0 | 0.2 | 1 | 2 | 3 | 0 |\n",
       "| 64 | 1 | 0 | 145 | 212 | 0 | 0 | 132 | 0 | 2.0 | 1 | 2 | 1 | 0 |\n",
       "| 42 | 1 | 0 | 140 | 226 | 0 | 1 | 178 | 0 | 0.0 | 2 | 0 | 2 | 1 |\n",
       "| 66 | 1 | 0 | 112 | 212 | 0 | 0 | 132 | 1 | 0.1 | 2 | 1 | 2 | 0 |\n",
       "| 52 | 1 | 0 | 108 | 233 | 1 | 1 | 147 | 0 | 0.1 | 2 | 3 | 3 | 1 |\n",
       "| 51 | 0 | 2 | 140 | 308 | 0 | 0 | 142 | 0 | 1.5 | 2 | 1 | 2 | 1 |\n",
       "| 55 | 0 | 0 | 128 | 205 | 0 | 2 | 130 | 1 | 2.0 | 1 | 1 | 3 | 0 |\n",
       "| 58 | 1 | 2 | 140 | 211 | 1 | 0 | 165 | 0 | 0.0 | 2 | 0 | 2 | 1 |\n",
       "| 56 | 1 | 3 | 120 | 193 | 0 | 0 | 162 | 0 | 1.9 | 1 | 0 | 3 | 1 |\n",
       "| 42 | 1 | 1 | 120 | 295 | 0 | 1 | 162 | 0 | 0.0 | 2 | 0 | 2 | 1 |\n",
       "| 40 | 1 | 0 | 152 | 223 | 0 | 1 | 181 | 0 | 0.0 | 2 | 0 | 3 | 0 |\n",
       "| 51 | 1 | 0 | 140 | 299 | 0 | 1 | 173 | 1 | 1.6 | 2 | 0 | 3 | 0 |\n",
       "| 45 | 1 | 1 | 128 | 308 | 0 | 0 | 170 | 0 | 0.0 | 2 | 0 | 2 | 1 |\n",
       "| 48 | 1 | 1 | 110 | 229 | 0 | 1 | 168 | 0 | 1.0 | 0 | 0 | 3 | 0 |\n",
       "| 58 | 1 | 0 | 114 | 318 | 0 | 2 | 140 | 0 | 4.4 | 0 | 3 | 1 | 0 |\n",
       "| 44 | 0 | 2 | 108 | 141 | 0 | 1 | 175 | 0 | 0.6 | 1 | 0 | 2 | 1 |\n",
       "| 58 | 1 | 0 | 128 | 216 | 0 | 0 | 131 | 1 | 2.2 | 1 | 3 | 3 | 0 |\n",
       "| 65 | 1 | 3 | 138 | 282 | 1 | 0 | 174 | 0 | 1.4 | 1 | 1 | 2 | 0 |\n",
       "| 53 | 1 | 0 | 123 | 282 | 0 | 1 |  95 | 1 | 2.0 | 1 | 2 | 3 | 0 |\n",
       "| 41 | 1 | 0 | 110 | 172 | 0 | 0 | 158 | 0 | 0.0 | 2 | 0 | 3 | 0 |\n",
       "| 47 | 1 | 0 | 112 | 204 | 0 | 1 | 143 | 0 | 0.1 | 2 | 0 | 2 | 1 |\n",
       "| 59 | 1 | 1 | 140 | 221 | 0 | 1 | 164 | 1 | 0.0 | 2 | 0 | 2 | 1 |\n",
       "| 60 | 1 | 0 | 125 | 258 | 0 | 0 | 141 | 1 | 2.8 | 1 | 1 | 3 | 0 |\n",
       "| 47 | 1 | 0 | 110 | 275 | 0 | 0 | 118 | 1 | 1.0 | 1 | 1 | 2 | 0 |\n",
       "| 50 | 0 | 0 | 110 | 254 | 0 | 0 | 159 | 0 | 0.0 | 2 | 0 | 2 | 1 |\n",
       "| 54 | 1 | 0 | 120 | 188 | 0 | 1 | 113 | 0 | 1.4 | 1 | 1 | 3 | 0 |\n",
       "\n"
      ],
      "text/plain": [
       "     age sex cp trestbps chol fbs restecg thalach exang oldpeak slope ca thal\n",
       "1    52  1   0  125      212  0   1       168     0     1.0     2     2  3   \n",
       "2    53  1   0  140      203  1   0       155     1     3.1     0     0  3   \n",
       "3    70  1   0  145      174  0   1       125     1     2.6     0     0  3   \n",
       "4    61  1   0  148      203  0   1       161     0     0.0     2     1  3   \n",
       "5    62  0   0  138      294  1   1       106     0     1.9     1     3  2   \n",
       "6    58  0   0  100      248  0   0       122     0     1.0     1     0  2   \n",
       "7    58  1   0  114      318  0   2       140     0     4.4     0     3  1   \n",
       "8    55  1   0  160      289  0   0       145     1     0.8     1     1  3   \n",
       "9    46  1   0  120      249  0   0       144     0     0.8     2     0  3   \n",
       "10   54  1   0  122      286  0   0       116     1     3.2     1     2  2   \n",
       "11   71  0   0  112      149  0   1       125     0     1.6     1     0  2   \n",
       "12   43  0   0  132      341  1   0       136     1     3.0     1     0  3   \n",
       "13   34  0   1  118      210  0   1       192     0     0.7     2     0  2   \n",
       "14   51  1   0  140      298  0   1       122     1     4.2     1     3  3   \n",
       "15   52  1   0  128      204  1   1       156     1     1.0     1     0  0   \n",
       "16   34  0   1  118      210  0   1       192     0     0.7     2     0  2   \n",
       "17   51  0   2  140      308  0   0       142     0     1.5     2     1  2   \n",
       "18   54  1   0  124      266  0   0       109     1     2.2     1     1  3   \n",
       "19   50  0   1  120      244  0   1       162     0     1.1     2     0  2   \n",
       "20   58  1   2  140      211  1   0       165     0     0.0     2     0  2   \n",
       "21   60  1   2  140      185  0   0       155     0     3.0     1     0  2   \n",
       "22   67  0   0  106      223  0   1       142     0     0.3     2     2  2   \n",
       "23   45  1   0  104      208  0   0       148     1     3.0     1     0  2   \n",
       "24   63  0   2  135      252  0   0       172     0     0.0     2     0  2   \n",
       "25   42  0   2  120      209  0   1       173     0     0.0     1     0  2   \n",
       "26   61  0   0  145      307  0   0       146     1     1.0     1     0  3   \n",
       "27   44  1   2  130      233  0   1       179     1     0.4     2     0  2   \n",
       "28   58  0   1  136      319  1   0       152     0     0.0     2     2  2   \n",
       "29   56  1   2  130      256  1   0       142     1     0.6     1     1  1   \n",
       "30   55  0   0  180      327  0   2       117     1     3.4     1     0  2   \n",
       "⋮    ⋮   ⋮   ⋮  ⋮        ⋮    ⋮   ⋮       ⋮       ⋮     ⋮       ⋮     ⋮  ⋮   \n",
       "996  44  1   1  120      263  0   1       173     0     0.0     2     0  3   \n",
       "997  56  0   0  134      409  0   0       150     1     1.9     1     2  3   \n",
       "998  54  1   0  120      188  0   1       113     0     1.4     1     1  3   \n",
       "999  42  1   0  136      315  0   1       125     1     1.8     1     0  1   \n",
       "1000 67  1   0  125      254  1   1       163     0     0.2     1     2  3   \n",
       "1001 64  1   0  145      212  0   0       132     0     2.0     1     2  1   \n",
       "1002 42  1   0  140      226  0   1       178     0     0.0     2     0  2   \n",
       "1003 66  1   0  112      212  0   0       132     1     0.1     2     1  2   \n",
       "1004 52  1   0  108      233  1   1       147     0     0.1     2     3  3   \n",
       "1005 51  0   2  140      308  0   0       142     0     1.5     2     1  2   \n",
       "1006 55  0   0  128      205  0   2       130     1     2.0     1     1  3   \n",
       "1007 58  1   2  140      211  1   0       165     0     0.0     2     0  2   \n",
       "1008 56  1   3  120      193  0   0       162     0     1.9     1     0  3   \n",
       "1009 42  1   1  120      295  0   1       162     0     0.0     2     0  2   \n",
       "1010 40  1   0  152      223  0   1       181     0     0.0     2     0  3   \n",
       "1011 51  1   0  140      299  0   1       173     1     1.6     2     0  3   \n",
       "1012 45  1   1  128      308  0   0       170     0     0.0     2     0  2   \n",
       "1013 48  1   1  110      229  0   1       168     0     1.0     0     0  3   \n",
       "1014 58  1   0  114      318  0   2       140     0     4.4     0     3  1   \n",
       "1015 44  0   2  108      141  0   1       175     0     0.6     1     0  2   \n",
       "1016 58  1   0  128      216  0   0       131     1     2.2     1     3  3   \n",
       "1017 65  1   3  138      282  1   0       174     0     1.4     1     1  2   \n",
       "1018 53  1   0  123      282  0   1        95     1     2.0     1     2  3   \n",
       "1019 41  1   0  110      172  0   0       158     0     0.0     2     0  3   \n",
       "1020 47  1   0  112      204  0   1       143     0     0.1     2     0  2   \n",
       "1021 59  1   1  140      221  0   1       164     1     0.0     2     0  2   \n",
       "1022 60  1   0  125      258  0   0       141     1     2.8     1     1  3   \n",
       "1023 47  1   0  110      275  0   0       118     1     1.0     1     1  2   \n",
       "1024 50  0   0  110      254  0   0       159     0     0.0     2     0  2   \n",
       "1025 54  1   0  120      188  0   1       113     0     1.4     1     1  3   \n",
       "     target\n",
       "1    0     \n",
       "2    0     \n",
       "3    0     \n",
       "4    0     \n",
       "5    0     \n",
       "6    1     \n",
       "7    0     \n",
       "8    0     \n",
       "9    0     \n",
       "10   0     \n",
       "11   1     \n",
       "12   0     \n",
       "13   1     \n",
       "14   0     \n",
       "15   0     \n",
       "16   1     \n",
       "17   1     \n",
       "18   0     \n",
       "19   1     \n",
       "20   1     \n",
       "21   0     \n",
       "22   1     \n",
       "23   1     \n",
       "24   1     \n",
       "25   1     \n",
       "26   0     \n",
       "27   1     \n",
       "28   0     \n",
       "29   0     \n",
       "30   0     \n",
       "⋮    ⋮     \n",
       "996  1     \n",
       "997  0     \n",
       "998  0     \n",
       "999  0     \n",
       "1000 0     \n",
       "1001 0     \n",
       "1002 1     \n",
       "1003 0     \n",
       "1004 1     \n",
       "1005 1     \n",
       "1006 0     \n",
       "1007 1     \n",
       "1008 1     \n",
       "1009 1     \n",
       "1010 0     \n",
       "1011 0     \n",
       "1012 1     \n",
       "1013 0     \n",
       "1014 0     \n",
       "1015 1     \n",
       "1016 0     \n",
       "1017 0     \n",
       "1018 0     \n",
       "1019 0     \n",
       "1020 1     \n",
       "1021 1     \n",
       "1022 0     \n",
       "1023 0     \n",
       "1024 1     \n",
       "1025 0     "
      ]
     },
     "metadata": {},
     "output_type": "display_data"
    }
   ],
   "source": [
    "#reading the data\n",
    "heart_data<-read_csv(\"/home/jovyan/heart_disease_analysis/heart.csv\")\n",
    "\n",
    "heart_data<-heart_data|>\n",
    "mutate(target = as_factor(target))\n",
    "heart_data"
   ]
  },
  {
   "cell_type": "code",
   "execution_count": 25,
   "id": "357fe006-f3d0-466a-a21a-cdf0959134f6",
   "metadata": {},
   "outputs": [],
   "source": [
    "#RUN THESE ONLY IF YOU WANT TO LOOK AT DATA OF PEOPLE HAVING HEART DISEASE VS NO HEART DISEASE\n",
    "#exploratory_table1<-heart_data|>\n",
    "#filter(target== 1)\n",
    "#exploratory_table1\n",
    "\n",
    "#exploratory_table2<-heart_data|>\n",
    "#filter(target== 0)\n",
    "#exploratory_table2\n",
    "\n"
   ]
  },
  {
   "cell_type": "code",
   "execution_count": 26,
   "id": "077d56ce-40d1-495f-827c-c7d6555a31a8",
   "metadata": {},
   "outputs": [],
   "source": [
    "set.seed(20)\n",
    "# Compute correlations\n",
    "#correlations <- cor(heart_data)\n",
    "\n",
    "# Get correlations with target\n",
    "#cor_with_target <- correlations[\"target\",]\n",
    "#sorted_cor <- sort(abs(cor_with_target), decreasing = TRUE)\n",
    "#print(sorted_cor)\n"
   ]
  },
  {
   "cell_type": "code",
   "execution_count": 35,
   "id": "a3eab5e7-8a08-4547-a0d0-c3cd3d100432",
   "metadata": {},
   "outputs": [],
   "source": [
    "#creating the split\n",
    "\n",
    "heart_split <- initial_split(heart_data, prop = 0.75, strata = target)\n",
    "heart_training <- training(heart_split)\n",
    "heart_testing <- testing(heart_split)\n",
    "heart_training<-heart_training|>\n",
    "mutate(target = as_factor(target))"
   ]
  },
  {
   "cell_type": "code",
   "execution_count": 36,
   "id": "87efe7c1-6d30-4460-ba46-10ccac4055a5",
   "metadata": {},
   "outputs": [
    {
     "data": {
      "text/html": [
       "<table class=\"dataframe\">\n",
       "<caption>A tibble: 2 × 2</caption>\n",
       "<thead>\n",
       "\t<tr><th scope=col>target</th><th scope=col>n</th></tr>\n",
       "\t<tr><th scope=col>&lt;fct&gt;</th><th scope=col>&lt;int&gt;</th></tr>\n",
       "</thead>\n",
       "<tbody>\n",
       "\t<tr><td>0</td><td>374</td></tr>\n",
       "\t<tr><td>1</td><td>394</td></tr>\n",
       "</tbody>\n",
       "</table>\n"
      ],
      "text/latex": [
       "A tibble: 2 × 2\n",
       "\\begin{tabular}{ll}\n",
       " target & n\\\\\n",
       " <fct> & <int>\\\\\n",
       "\\hline\n",
       "\t 0 & 374\\\\\n",
       "\t 1 & 394\\\\\n",
       "\\end{tabular}\n"
      ],
      "text/markdown": [
       "\n",
       "A tibble: 2 × 2\n",
       "\n",
       "| target &lt;fct&gt; | n &lt;int&gt; |\n",
       "|---|---|\n",
       "| 0 | 374 |\n",
       "| 1 | 394 |\n",
       "\n"
      ],
      "text/plain": [
       "  target n  \n",
       "1 0      374\n",
       "2 1      394"
      ]
     },
     "metadata": {},
     "output_type": "display_data"
    }
   ],
   "source": [
    "#number of people with heart disease vs no heart disease in the training dataset.\n",
    "\n",
    "heart_target_groups<- heart_training|>\n",
    "group_by(target)|>\n",
    "summarize(n=n())\n",
    "heart_target_groups"
   ]
  },
  {
   "cell_type": "code",
   "execution_count": 37,
   "id": "698a0efb-79e6-47f1-bb55-ec87d6a53ade",
   "metadata": {},
   "outputs": [
    {
     "data": {
      "text/html": [
       "<table class=\"dataframe\">\n",
       "<caption>A tibble: 1 × 3</caption>\n",
       "<thead>\n",
       "\t<tr><th scope=col>mean_age</th><th scope=col>mean_trestbps</th><th scope=col>mean_chol</th></tr>\n",
       "\t<tr><th scope=col>&lt;dbl&gt;</th><th scope=col>&lt;dbl&gt;</th><th scope=col>&lt;dbl&gt;</th></tr>\n",
       "</thead>\n",
       "<tbody>\n",
       "\t<tr><td>54.61198</td><td>131.9206</td><td>245.3099</td></tr>\n",
       "</tbody>\n",
       "</table>\n"
      ],
      "text/latex": [
       "A tibble: 1 × 3\n",
       "\\begin{tabular}{lll}\n",
       " mean\\_age & mean\\_trestbps & mean\\_chol\\\\\n",
       " <dbl> & <dbl> & <dbl>\\\\\n",
       "\\hline\n",
       "\t 54.61198 & 131.9206 & 245.3099\\\\\n",
       "\\end{tabular}\n"
      ],
      "text/markdown": [
       "\n",
       "A tibble: 1 × 3\n",
       "\n",
       "| mean_age &lt;dbl&gt; | mean_trestbps &lt;dbl&gt; | mean_chol &lt;dbl&gt; |\n",
       "|---|---|---|\n",
       "| 54.61198 | 131.9206 | 245.3099 |\n",
       "\n"
      ],
      "text/plain": [
       "  mean_age mean_trestbps mean_chol\n",
       "1 54.61198 131.9206      245.3099 "
      ]
     },
     "metadata": {},
     "output_type": "display_data"
    },
    {
     "data": {
      "text/html": [
       "<table class=\"dataframe\">\n",
       "<caption>A tibble: 4 × 2</caption>\n",
       "<thead>\n",
       "\t<tr><th scope=col>cp</th><th scope=col>count</th></tr>\n",
       "\t<tr><th scope=col>&lt;dbl&gt;</th><th scope=col>&lt;int&gt;</th></tr>\n",
       "</thead>\n",
       "<tbody>\n",
       "\t<tr><td>0</td><td>369</td></tr>\n",
       "\t<tr><td>1</td><td>128</td></tr>\n",
       "\t<tr><td>2</td><td>212</td></tr>\n",
       "\t<tr><td>3</td><td> 59</td></tr>\n",
       "</tbody>\n",
       "</table>\n"
      ],
      "text/latex": [
       "A tibble: 4 × 2\n",
       "\\begin{tabular}{ll}\n",
       " cp & count\\\\\n",
       " <dbl> & <int>\\\\\n",
       "\\hline\n",
       "\t 0 & 369\\\\\n",
       "\t 1 & 128\\\\\n",
       "\t 2 & 212\\\\\n",
       "\t 3 &  59\\\\\n",
       "\\end{tabular}\n"
      ],
      "text/markdown": [
       "\n",
       "A tibble: 4 × 2\n",
       "\n",
       "| cp &lt;dbl&gt; | count &lt;int&gt; |\n",
       "|---|---|\n",
       "| 0 | 369 |\n",
       "| 1 | 128 |\n",
       "| 2 | 212 |\n",
       "| 3 |  59 |\n",
       "\n"
      ],
      "text/plain": [
       "  cp count\n",
       "1 0  369  \n",
       "2 1  128  \n",
       "3 2  212  \n",
       "4 3   59  "
      ]
     },
     "metadata": {},
     "output_type": "display_data"
    },
    {
     "data": {
      "text/html": [
       "<table class=\"dataframe\">\n",
       "<caption>A tibble: 2 × 2</caption>\n",
       "<thead>\n",
       "\t<tr><th scope=col>sex</th><th scope=col>count</th></tr>\n",
       "\t<tr><th scope=col>&lt;dbl&gt;</th><th scope=col>&lt;int&gt;</th></tr>\n",
       "</thead>\n",
       "<tbody>\n",
       "\t<tr><td>0</td><td>236</td></tr>\n",
       "\t<tr><td>1</td><td>532</td></tr>\n",
       "</tbody>\n",
       "</table>\n"
      ],
      "text/latex": [
       "A tibble: 2 × 2\n",
       "\\begin{tabular}{ll}\n",
       " sex & count\\\\\n",
       " <dbl> & <int>\\\\\n",
       "\\hline\n",
       "\t 0 & 236\\\\\n",
       "\t 1 & 532\\\\\n",
       "\\end{tabular}\n"
      ],
      "text/markdown": [
       "\n",
       "A tibble: 2 × 2\n",
       "\n",
       "| sex &lt;dbl&gt; | count &lt;int&gt; |\n",
       "|---|---|\n",
       "| 0 | 236 |\n",
       "| 1 | 532 |\n",
       "\n"
      ],
      "text/plain": [
       "  sex count\n",
       "1 0   236  \n",
       "2 1   532  "
      ]
     },
     "metadata": {},
     "output_type": "display_data"
    },
    {
     "data": {
      "text/html": [
       "<table class=\"dataframe\">\n",
       "<caption>A tibble: 1 × 3</caption>\n",
       "<thead>\n",
       "\t<tr><th scope=col>mean_chol</th><th scope=col>min_chol</th><th scope=col>max_chol</th></tr>\n",
       "\t<tr><th scope=col>&lt;dbl&gt;</th><th scope=col>&lt;dbl&gt;</th><th scope=col>&lt;dbl&gt;</th></tr>\n",
       "</thead>\n",
       "<tbody>\n",
       "\t<tr><td>245.3099</td><td>126</td><td>564</td></tr>\n",
       "</tbody>\n",
       "</table>\n"
      ],
      "text/latex": [
       "A tibble: 1 × 3\n",
       "\\begin{tabular}{lll}\n",
       " mean\\_chol & min\\_chol & max\\_chol\\\\\n",
       " <dbl> & <dbl> & <dbl>\\\\\n",
       "\\hline\n",
       "\t 245.3099 & 126 & 564\\\\\n",
       "\\end{tabular}\n"
      ],
      "text/markdown": [
       "\n",
       "A tibble: 1 × 3\n",
       "\n",
       "| mean_chol &lt;dbl&gt; | min_chol &lt;dbl&gt; | max_chol &lt;dbl&gt; |\n",
       "|---|---|---|\n",
       "| 245.3099 | 126 | 564 |\n",
       "\n"
      ],
      "text/plain": [
       "  mean_chol min_chol max_chol\n",
       "1 245.3099  126      564     "
      ]
     },
     "metadata": {},
     "output_type": "display_data"
    },
    {
     "data": {
      "text/html": [
       "<table class=\"dataframe\">\n",
       "<caption>A tibble: 1 × 3</caption>\n",
       "<thead>\n",
       "\t<tr><th scope=col>mean_trestbps</th><th scope=col>min_trestbps</th><th scope=col>max_trestbps</th></tr>\n",
       "\t<tr><th scope=col>&lt;dbl&gt;</th><th scope=col>&lt;dbl&gt;</th><th scope=col>&lt;dbl&gt;</th></tr>\n",
       "</thead>\n",
       "<tbody>\n",
       "\t<tr><td>131.9206</td><td>94</td><td>200</td></tr>\n",
       "</tbody>\n",
       "</table>\n"
      ],
      "text/latex": [
       "A tibble: 1 × 3\n",
       "\\begin{tabular}{lll}\n",
       " mean\\_trestbps & min\\_trestbps & max\\_trestbps\\\\\n",
       " <dbl> & <dbl> & <dbl>\\\\\n",
       "\\hline\n",
       "\t 131.9206 & 94 & 200\\\\\n",
       "\\end{tabular}\n"
      ],
      "text/markdown": [
       "\n",
       "A tibble: 1 × 3\n",
       "\n",
       "| mean_trestbps &lt;dbl&gt; | min_trestbps &lt;dbl&gt; | max_trestbps &lt;dbl&gt; |\n",
       "|---|---|---|\n",
       "| 131.9206 | 94 | 200 |\n",
       "\n"
      ],
      "text/plain": [
       "  mean_trestbps min_trestbps max_trestbps\n",
       "1 131.9206      94           200         "
      ]
     },
     "metadata": {},
     "output_type": "display_data"
    }
   ],
   "source": [
    "set.seed(20)\n",
    "#predictors average \n",
    "heart_predictors_avg<- heart_training|>\n",
    "summarise( mean_age = mean(age, na.rm = TRUE),\n",
    "    mean_trestbps = mean(trestbps, na.rm = TRUE),\n",
    "    mean_chol = mean(chol, na.rm = TRUE) )\n",
    "\n",
    "heart_predictors_avg\n",
    "\n",
    "\n",
    "#using an average for categorical chest pain variable (1-4 types) does not make sense, therefore I used count\n",
    "chest_pain_count <- heart_training |>\n",
    "  group_by(cp) |>\n",
    "  summarize(count = n())\n",
    "\n",
    "chest_pain_count\n",
    "#using an average for categorical sex variable does not make sense, therefore I used count\n",
    "sex_count <- heart_training |>\n",
    "  group_by(sex) |>\n",
    "  summarize(count = n())\n",
    "\n",
    "sex_count\n",
    "\n",
    "#cholesterol detailed summary\n",
    "chol_summary<- heart_training|>\n",
    "summarise (    mean_chol = mean(chol, na.rm = TRUE),\n",
    "            min_chol = min(chol, na.rm = TRUE),\n",
    "            max_chol = max(chol, na.rm = TRUE))\n",
    "chol_summary\n",
    "\n",
    "#Resting blood pressure detailed summary\n",
    "trestbps_summary <- heart_training |>\n",
    "  summarise(mean_trestbps = mean(trestbps, na.rm = TRUE),\n",
    "    min_trestbps = min(trestbps, na.rm = TRUE),\n",
    "    max_trestbps = max(trestbps, na.rm = TRUE) )\n",
    "\n",
    "trestbps_summary\n"
   ]
  },
  {
   "cell_type": "code",
   "execution_count": 38,
   "id": "aa49ebdb-9ab1-4205-884e-8b300aa3e760",
   "metadata": {},
   "outputs": [
    {
     "data": {
      "image/png": "[encoded data removed]",
      "text/plain": [
       "plot without title"
      ]
     },
     "metadata": {
      "image/png": {
       "height": 420,
       "width": 420
      }
     },
     "output_type": "display_data"
    },
    {
     "data": {
      "image/png": "[encoded data removed]",
      "text/plain": [
       "plot without title"
      ]
     },
     "metadata": {
      "image/png": {
       "height": 420,
       "width": 420
      }
     },
     "output_type": "display_data"
    },
    {
     "data": {
      "image/png": "[encoded data removed]",
      "text/plain": [
       "plot without title"
      ]
     },
     "metadata": {
      "image/png": {
       "height": 420,
       "width": 420
      }
     },
     "output_type": "display_data"
    },
    {
     "data": {
      "image/png": "[encoded data removed]",
      "text/plain": [
       "plot without title"
      ]
     },
     "metadata": {
      "image/png": {
       "height": 420,
       "width": 420
      }
     },
     "output_type": "display_data"
    },
    {
     "data": {
      "image/png": "[encoded data removed]",
      "text/plain": [
       "plot without title"
      ]
     },
     "metadata": {
      "image/png": {
       "height": 420,
       "width": 420
      }
     },
     "output_type": "display_data"
    }
   ],
   "source": [
    "#This is the histogram for the number of people with different types of chest pain in the training dataset\n",
    "chestpain_hist<-heart_training|>\n",
    "ggplot(aes(x=cp))+\n",
    "       geom_histogram(fill = \"blue\", bins = 30)+\n",
    "       labs(x=\"Chest Pain Type\", y=\"Count\", title=\"Histogram of Chest Pain Type in Training Data\")\n",
    "       \n",
    "chestpain_hist\n",
    "\n",
    "#This is a box plot for cholesterol levels\n",
    "chol_plot <- heart_training|>\n",
    "ggplot(aes(x = factor(target), y = chol)) + \n",
    "  geom_boxplot(fill= \"blue\") +\n",
    "  labs(x = \"Heart Disease Presence\", \n",
    "       y = \"Serum Cholesterol\",\n",
    "       title = \"Boxplot of Serum Cholesterol by Heart Disease Presence\")\n",
    "\n",
    "chol_plot\n",
    "\n",
    "#Histogram for Age\n",
    "age_hist <- heart_training |>\n",
    "  ggplot(aes(x=age, fill=..count..)) +\n",
    "  geom_histogram( bins = 30) +\n",
    "  labs(x = \"Age\", y = \"Count\", title = \"Histogram of Age in Training Data\")\n",
    "  \n",
    "age_hist\n",
    "\n",
    "#Histogram for Resting Blood Pressure\n",
    "bp_hist <- heart_training |>\n",
    "  ggplot(aes(x=trestbps)) +\n",
    "  geom_histogram(fill = \"blue\", bins = 30) +\n",
    "  labs(x = \"Resting Blood Pressure\", y = \"Count\", title = \"Resting Blood Pressure in Training Data\")\n",
    "  \n",
    "bp_hist\n",
    "\n",
    "#Bar Chart for Sex\n",
    "sex_bar <- heart_training |>\n",
    "  ggplot(aes(x=factor(sex))) +\n",
    "  geom_bar(fill = \"blue\") +\n",
    "  labs(x = \"Sex\", y = \"Count\", title = \"Sex in Training Data\")\n",
    "  \n",
    "sex_bar\n"
   ]
  },
  {
   "cell_type": "markdown",
   "id": "c5607861-9d3a-4f61-8dac-911952ee7550",
   "metadata": {},
   "source": [
    "METHODS: \n",
    "\n",
    "Utilizing Jupyter Notebook and R, we will import the Heart Disease dataset from the UCI repository using the read.csv() function. Our analysis centers on 14 clinical attributes, with the \"target\" field serving as our response variable.\n",
    "\n",
    "Initial steps involve data cleaning to rectify missing, inconsistent entries and removing incorrect variables with imputation techniques as necessary. Post-cleaning, we undertake Exploratory Data Analysis (EDA) involving summary statistics and visualizations, providing insights into variable distributions and relationships with heart disease presence.\n",
    "\n",
    "A classification algorithm will be employed for predictive modeling, trained on a data subset, and evaluated via cross-validation.\n",
    "\n",
    "The predictive accuracy of our model will be visualized via a confusion matrix and Receiver Operating Characteristic (ROC) curve. Additionally, a feature importance plot will emphasize the most predictive variables. All steps are executed within the Jupyter notebook environment to ensure replicability.\n"
   ]
  },
  {
   "cell_type": "markdown",
   "id": "c64845e8-9312-482b-9af8-7b40093764b7",
   "metadata": {},
   "source": [
    "EXPECTED OUTCOMES AND SIGNIFICANCE: \n",
    "\n",
    "\n",
    "Machine learning is becoming increasingly popular in the medical field, and many researchers and clinicians are interested in building an accurate prediction model for particular diseases based on clinical features. Although reliable prediction models are helpful in creating tailored treatment plans for patients, the exploratory analysis and validation process of building a classifier may be helpful in uncovering the biological mechanism of the disease itself. For example, certain clinical features may be more strongly correlated with clinical outcome. This may raise questions such as how certain variables play into the pathology of the disease, leading to further experimental questions. \n",
    "\n"
   ]
  },
  {
   "cell_type": "markdown",
   "id": "05a6bef0-57d1-43b6-8be7-4336703adc98",
   "metadata": {},
   "source": [
    "DATA ANALYSIS"
   ]
  },
  {
   "cell_type": "code",
   "execution_count": 39,
   "id": "8f7a31e8-c850-4f15-9f4c-0825416c2910",
   "metadata": {},
   "outputs": [
    {
     "data": {
      "text/plain": [
       "Recipe\n",
       "\n",
       "Inputs:\n",
       "\n",
       "      role #variables\n",
       "   outcome          1\n",
       " predictor         13\n",
       "\n",
       "Operations:\n",
       "\n",
       "Scaling for all_predictors()\n",
       "Centering for all_predictors()"
      ]
     },
     "metadata": {},
     "output_type": "display_data"
    }
   ],
   "source": [
    "set.seed(20)\n",
    "#Creating the recipe\n",
    "heart_recipe <- recipe(target ~ age\t+sex+cp+trestbps+chol+fbs+restecg+thalach+exang+oldpeak+slope+ca+thal, data = heart_training) |>\n",
    "step_scale(all_predictors()) |>\n",
    "step_center(all_predictors())\n",
    "heart_recipe"
   ]
  },
  {
   "cell_type": "code",
   "execution_count": 41,
   "id": "2c41e6fb-daef-4d1f-93d8-74a34e5a678c",
   "metadata": {},
   "outputs": [
    {
     "data": {
      "text/html": [
       "<table class=\"dataframe\">\n",
       "<caption>A tibble: 25 × 7</caption>\n",
       "<thead>\n",
       "\t<tr><th scope=col>neighbors</th><th scope=col>.metric</th><th scope=col>.estimator</th><th scope=col>mean</th><th scope=col>n</th><th scope=col>std_err</th><th scope=col>.config</th></tr>\n",
       "\t<tr><th scope=col>&lt;dbl&gt;</th><th scope=col>&lt;chr&gt;</th><th scope=col>&lt;chr&gt;</th><th scope=col>&lt;dbl&gt;</th><th scope=col>&lt;int&gt;</th><th scope=col>&lt;dbl&gt;</th><th scope=col>&lt;chr&gt;</th></tr>\n",
       "</thead>\n",
       "<tbody>\n",
       "\t<tr><td> 1</td><td>accuracy</td><td>binary</td><td>0.9908907</td><td>10</td><td>0.002793012</td><td>Preprocessor1_Model01</td></tr>\n",
       "\t<tr><td> 3</td><td>accuracy</td><td>binary</td><td>0.8919028</td><td>10</td><td>0.013102335</td><td>Preprocessor1_Model02</td></tr>\n",
       "\t<tr><td> 5</td><td>accuracy</td><td>binary</td><td>0.8218961</td><td>10</td><td>0.018142620</td><td>Preprocessor1_Model03</td></tr>\n",
       "\t<tr><td> 7</td><td>accuracy</td><td>binary</td><td>0.8476721</td><td>10</td><td>0.012145046</td><td>Preprocessor1_Model04</td></tr>\n",
       "\t<tr><td> 9</td><td>accuracy</td><td>binary</td><td>0.8580972</td><td>10</td><td>0.010747990</td><td>Preprocessor1_Model05</td></tr>\n",
       "\t<tr><td>11</td><td>accuracy</td><td>binary</td><td>0.8463900</td><td>10</td><td>0.009016658</td><td>Preprocessor1_Model06</td></tr>\n",
       "\t<tr><td>13</td><td>accuracy</td><td>binary</td><td>0.8384615</td><td>10</td><td>0.007710208</td><td>Preprocessor1_Model07</td></tr>\n",
       "\t<tr><td>15</td><td>accuracy</td><td>binary</td><td>0.8487854</td><td>10</td><td>0.011231525</td><td>Preprocessor1_Model08</td></tr>\n",
       "\t<tr><td>17</td><td>accuracy</td><td>binary</td><td>0.8383941</td><td>10</td><td>0.011187318</td><td>Preprocessor1_Model09</td></tr>\n",
       "\t<tr><td>19</td><td>accuracy</td><td>binary</td><td>0.8500675</td><td>10</td><td>0.008864752</td><td>Preprocessor1_Model10</td></tr>\n",
       "\t<tr><td>21</td><td>accuracy</td><td>binary</td><td>0.8435223</td><td>10</td><td>0.009860534</td><td>Preprocessor1_Model11</td></tr>\n",
       "\t<tr><td>23</td><td>accuracy</td><td>binary</td><td>0.8474359</td><td>10</td><td>0.013052781</td><td>Preprocessor1_Model12</td></tr>\n",
       "\t<tr><td>25</td><td>accuracy</td><td>binary</td><td>0.8473347</td><td>10</td><td>0.015596653</td><td>Preprocessor1_Model13</td></tr>\n",
       "\t<tr><td>27</td><td>accuracy</td><td>binary</td><td>0.8384278</td><td>10</td><td>0.009055484</td><td>Preprocessor1_Model14</td></tr>\n",
       "\t<tr><td>29</td><td>accuracy</td><td>binary</td><td>0.8384278</td><td>10</td><td>0.007738967</td><td>Preprocessor1_Model15</td></tr>\n",
       "\t<tr><td>31</td><td>accuracy</td><td>binary</td><td>0.8331646</td><td>10</td><td>0.008694633</td><td>Preprocessor1_Model16</td></tr>\n",
       "\t<tr><td>33</td><td>accuracy</td><td>binary</td><td>0.8409919</td><td>10</td><td>0.011322061</td><td>Preprocessor1_Model17</td></tr>\n",
       "\t<tr><td>35</td><td>accuracy</td><td>binary</td><td>0.8462888</td><td>10</td><td>0.008258349</td><td>Preprocessor1_Model18</td></tr>\n",
       "\t<tr><td>37</td><td>accuracy</td><td>binary</td><td>0.8450742</td><td>10</td><td>0.009325395</td><td>Preprocessor1_Model19</td></tr>\n",
       "\t<tr><td>39</td><td>accuracy</td><td>binary</td><td>0.8462888</td><td>10</td><td>0.011092200</td><td>Preprocessor1_Model20</td></tr>\n",
       "\t<tr><td>41</td><td>accuracy</td><td>binary</td><td>0.8477395</td><td>10</td><td>0.011245395</td><td>Preprocessor1_Model21</td></tr>\n",
       "\t<tr><td>43</td><td>accuracy</td><td>binary</td><td>0.8384953</td><td>10</td><td>0.011651384</td><td>Preprocessor1_Model22</td></tr>\n",
       "\t<tr><td>45</td><td>accuracy</td><td>binary</td><td>0.8333333</td><td>10</td><td>0.009531993</td><td>Preprocessor1_Model23</td></tr>\n",
       "\t<tr><td>47</td><td>accuracy</td><td>binary</td><td>0.8346491</td><td>10</td><td>0.011031632</td><td>Preprocessor1_Model24</td></tr>\n",
       "\t<tr><td>49</td><td>accuracy</td><td>binary</td><td>0.8372470</td><td>10</td><td>0.011749225</td><td>Preprocessor1_Model25</td></tr>\n",
       "</tbody>\n",
       "</table>\n"
      ],
      "text/latex": [
       "A tibble: 25 × 7\n",
       "\\begin{tabular}{lllllll}\n",
       " neighbors & .metric & .estimator & mean & n & std\\_err & .config\\\\\n",
       " <dbl> & <chr> & <chr> & <dbl> & <int> & <dbl> & <chr>\\\\\n",
       "\\hline\n",
       "\t  1 & accuracy & binary & 0.9908907 & 10 & 0.002793012 & Preprocessor1\\_Model01\\\\\n",
       "\t  3 & accuracy & binary & 0.8919028 & 10 & 0.013102335 & Preprocessor1\\_Model02\\\\\n",
       "\t  5 & accuracy & binary & 0.8218961 & 10 & 0.018142620 & Preprocessor1\\_Model03\\\\\n",
       "\t  7 & accuracy & binary & 0.8476721 & 10 & 0.012145046 & Preprocessor1\\_Model04\\\\\n",
       "\t  9 & accuracy & binary & 0.8580972 & 10 & 0.010747990 & Preprocessor1\\_Model05\\\\\n",
       "\t 11 & accuracy & binary & 0.8463900 & 10 & 0.009016658 & Preprocessor1\\_Model06\\\\\n",
       "\t 13 & accuracy & binary & 0.8384615 & 10 & 0.007710208 & Preprocessor1\\_Model07\\\\\n",
       "\t 15 & accuracy & binary & 0.8487854 & 10 & 0.011231525 & Preprocessor1\\_Model08\\\\\n",
       "\t 17 & accuracy & binary & 0.8383941 & 10 & 0.011187318 & Preprocessor1\\_Model09\\\\\n",
       "\t 19 & accuracy & binary & 0.8500675 & 10 & 0.008864752 & Preprocessor1\\_Model10\\\\\n",
       "\t 21 & accuracy & binary & 0.8435223 & 10 & 0.009860534 & Preprocessor1\\_Model11\\\\\n",
       "\t 23 & accuracy & binary & 0.8474359 & 10 & 0.013052781 & Preprocessor1\\_Model12\\\\\n",
       "\t 25 & accuracy & binary & 0.8473347 & 10 & 0.015596653 & Preprocessor1\\_Model13\\\\\n",
       "\t 27 & accuracy & binary & 0.8384278 & 10 & 0.009055484 & Preprocessor1\\_Model14\\\\\n",
       "\t 29 & accuracy & binary & 0.8384278 & 10 & 0.007738967 & Preprocessor1\\_Model15\\\\\n",
       "\t 31 & accuracy & binary & 0.8331646 & 10 & 0.008694633 & Preprocessor1\\_Model16\\\\\n",
       "\t 33 & accuracy & binary & 0.8409919 & 10 & 0.011322061 & Preprocessor1\\_Model17\\\\\n",
       "\t 35 & accuracy & binary & 0.8462888 & 10 & 0.008258349 & Preprocessor1\\_Model18\\\\\n",
       "\t 37 & accuracy & binary & 0.8450742 & 10 & 0.009325395 & Preprocessor1\\_Model19\\\\\n",
       "\t 39 & accuracy & binary & 0.8462888 & 10 & 0.011092200 & Preprocessor1\\_Model20\\\\\n",
       "\t 41 & accuracy & binary & 0.8477395 & 10 & 0.011245395 & Preprocessor1\\_Model21\\\\\n",
       "\t 43 & accuracy & binary & 0.8384953 & 10 & 0.011651384 & Preprocessor1\\_Model22\\\\\n",
       "\t 45 & accuracy & binary & 0.8333333 & 10 & 0.009531993 & Preprocessor1\\_Model23\\\\\n",
       "\t 47 & accuracy & binary & 0.8346491 & 10 & 0.011031632 & Preprocessor1\\_Model24\\\\\n",
       "\t 49 & accuracy & binary & 0.8372470 & 10 & 0.011749225 & Preprocessor1\\_Model25\\\\\n",
       "\\end{tabular}\n"
      ],
      "text/markdown": [
       "\n",
       "A tibble: 25 × 7\n",
       "\n",
       "| neighbors &lt;dbl&gt; | .metric &lt;chr&gt; | .estimator &lt;chr&gt; | mean &lt;dbl&gt; | n &lt;int&gt; | std_err &lt;dbl&gt; | .config &lt;chr&gt; |\n",
       "|---|---|---|---|---|---|---|\n",
       "|  1 | accuracy | binary | 0.9908907 | 10 | 0.002793012 | Preprocessor1_Model01 |\n",
       "|  3 | accuracy | binary | 0.8919028 | 10 | 0.013102335 | Preprocessor1_Model02 |\n",
       "|  5 | accuracy | binary | 0.8218961 | 10 | 0.018142620 | Preprocessor1_Model03 |\n",
       "|  7 | accuracy | binary | 0.8476721 | 10 | 0.012145046 | Preprocessor1_Model04 |\n",
       "|  9 | accuracy | binary | 0.8580972 | 10 | 0.010747990 | Preprocessor1_Model05 |\n",
       "| 11 | accuracy | binary | 0.8463900 | 10 | 0.009016658 | Preprocessor1_Model06 |\n",
       "| 13 | accuracy | binary | 0.8384615 | 10 | 0.007710208 | Preprocessor1_Model07 |\n",
       "| 15 | accuracy | binary | 0.8487854 | 10 | 0.011231525 | Preprocessor1_Model08 |\n",
       "| 17 | accuracy | binary | 0.8383941 | 10 | 0.011187318 | Preprocessor1_Model09 |\n",
       "| 19 | accuracy | binary | 0.8500675 | 10 | 0.008864752 | Preprocessor1_Model10 |\n",
       "| 21 | accuracy | binary | 0.8435223 | 10 | 0.009860534 | Preprocessor1_Model11 |\n",
       "| 23 | accuracy | binary | 0.8474359 | 10 | 0.013052781 | Preprocessor1_Model12 |\n",
       "| 25 | accuracy | binary | 0.8473347 | 10 | 0.015596653 | Preprocessor1_Model13 |\n",
       "| 27 | accuracy | binary | 0.8384278 | 10 | 0.009055484 | Preprocessor1_Model14 |\n",
       "| 29 | accuracy | binary | 0.8384278 | 10 | 0.007738967 | Preprocessor1_Model15 |\n",
       "| 31 | accuracy | binary | 0.8331646 | 10 | 0.008694633 | Preprocessor1_Model16 |\n",
       "| 33 | accuracy | binary | 0.8409919 | 10 | 0.011322061 | Preprocessor1_Model17 |\n",
       "| 35 | accuracy | binary | 0.8462888 | 10 | 0.008258349 | Preprocessor1_Model18 |\n",
       "| 37 | accuracy | binary | 0.8450742 | 10 | 0.009325395 | Preprocessor1_Model19 |\n",
       "| 39 | accuracy | binary | 0.8462888 | 10 | 0.011092200 | Preprocessor1_Model20 |\n",
       "| 41 | accuracy | binary | 0.8477395 | 10 | 0.011245395 | Preprocessor1_Model21 |\n",
       "| 43 | accuracy | binary | 0.8384953 | 10 | 0.011651384 | Preprocessor1_Model22 |\n",
       "| 45 | accuracy | binary | 0.8333333 | 10 | 0.009531993 | Preprocessor1_Model23 |\n",
       "| 47 | accuracy | binary | 0.8346491 | 10 | 0.011031632 | Preprocessor1_Model24 |\n",
       "| 49 | accuracy | binary | 0.8372470 | 10 | 0.011749225 | Preprocessor1_Model25 |\n",
       "\n"
      ],
      "text/plain": [
       "   neighbors .metric  .estimator mean      n  std_err     .config              \n",
       "1   1        accuracy binary     0.9908907 10 0.002793012 Preprocessor1_Model01\n",
       "2   3        accuracy binary     0.8919028 10 0.013102335 Preprocessor1_Model02\n",
       "3   5        accuracy binary     0.8218961 10 0.018142620 Preprocessor1_Model03\n",
       "4   7        accuracy binary     0.8476721 10 0.012145046 Preprocessor1_Model04\n",
       "5   9        accuracy binary     0.8580972 10 0.010747990 Preprocessor1_Model05\n",
       "6  11        accuracy binary     0.8463900 10 0.009016658 Preprocessor1_Model06\n",
       "7  13        accuracy binary     0.8384615 10 0.007710208 Preprocessor1_Model07\n",
       "8  15        accuracy binary     0.8487854 10 0.011231525 Preprocessor1_Model08\n",
       "9  17        accuracy binary     0.8383941 10 0.011187318 Preprocessor1_Model09\n",
       "10 19        accuracy binary     0.8500675 10 0.008864752 Preprocessor1_Model10\n",
       "11 21        accuracy binary     0.8435223 10 0.009860534 Preprocessor1_Model11\n",
       "12 23        accuracy binary     0.8474359 10 0.013052781 Preprocessor1_Model12\n",
       "13 25        accuracy binary     0.8473347 10 0.015596653 Preprocessor1_Model13\n",
       "14 27        accuracy binary     0.8384278 10 0.009055484 Preprocessor1_Model14\n",
       "15 29        accuracy binary     0.8384278 10 0.007738967 Preprocessor1_Model15\n",
       "16 31        accuracy binary     0.8331646 10 0.008694633 Preprocessor1_Model16\n",
       "17 33        accuracy binary     0.8409919 10 0.011322061 Preprocessor1_Model17\n",
       "18 35        accuracy binary     0.8462888 10 0.008258349 Preprocessor1_Model18\n",
       "19 37        accuracy binary     0.8450742 10 0.009325395 Preprocessor1_Model19\n",
       "20 39        accuracy binary     0.8462888 10 0.011092200 Preprocessor1_Model20\n",
       "21 41        accuracy binary     0.8477395 10 0.011245395 Preprocessor1_Model21\n",
       "22 43        accuracy binary     0.8384953 10 0.011651384 Preprocessor1_Model22\n",
       "23 45        accuracy binary     0.8333333 10 0.009531993 Preprocessor1_Model23\n",
       "24 47        accuracy binary     0.8346491 10 0.011031632 Preprocessor1_Model24\n",
       "25 49        accuracy binary     0.8372470 10 0.011749225 Preprocessor1_Model25"
      ]
     },
     "metadata": {},
     "output_type": "display_data"
    }
   ],
   "source": [
    "set.seed(20) #Do not remove\n",
    "\n",
    "#Creating a K tune for training data\n",
    "knn_tune<-nearest_neighbor(weight_func = \"rectangular\", neighbors=tune())|>\n",
    "set_engine(\"kknn\")|>\n",
    "set_mode(\"classification\")\n",
    "\n",
    "#Specifiying the amount of K\n",
    "k_vals <- tibble(neighbors = seq(from = 1, to = 50, by = 2))\n",
    "\n",
    "heart_vfold<-vfold_cv(heart_training, v=10, strata = target)\n",
    "\n",
    "#Training the model\n",
    "knn_results <- workflow()|>\n",
    "add_recipe(heart_recipe)|>\n",
    "add_model(knn_tune)|>\n",
    "tune_grid(resamples=heart_vfold, grid=k_vals)|>\n",
    "collect_metrics()\n",
    "\n",
    "#Checking Accuracies\n",
    "accuracies <- knn_results |>\n",
    "  filter(.metric == \"accuracy\")\n",
    "\n",
    "accuracies\n",
    "\n",
    "\n",
    "\n",
    "\n"
   ]
  },
  {
   "cell_type": "code",
   "execution_count": 42,
   "id": "320d11de-432c-4bac-8169-046f0f6eeab5",
   "metadata": {},
   "outputs": [
    {
     "data": {
      "image/png": "[encoded data removed]",
      "text/plain": [
       "plot without title"
      ]
     },
     "metadata": {
      "image/png": {
       "height": 420,
       "width": 420
      }
     },
     "output_type": "display_data"
    }
   ],
   "source": [
    "set.seed(20)\n",
    "#Plotting Accuracies\n",
    "accuracy_vs_k <- ggplot(accuracies, aes(x = neighbors, y = mean)) +\n",
    "  geom_point() +\n",
    "  geom_line() +\n",
    "  labs(x = \"Neighbors\", y = \"Accuracy Estimate\") + \n",
    "  theme(text = element_text(size = 12))\n",
    "\n",
    "accuracy_vs_k"
   ]
  },
  {
   "cell_type": "code",
   "execution_count": 43,
   "id": "cec3d709-ba80-44fc-b25c-eb07e2596e35",
   "metadata": {},
   "outputs": [],
   "source": [
    "#let's choose k=3 and k=9 and fit them onto the testing set\n",
    "set.seed(20)\n",
    "#Specifying the k for our model\n",
    "knn_spec3<-nearest_neighbor(weight_func = \"rectangular\", neighbors=3)|>\n",
    "set_engine(\"kknn\")|>\n",
    "set_mode(\"classification\")\n",
    "\n",
    "knn_spec9<-nearest_neighbor(weight_func = \"rectangular\", neighbors=9)|>\n",
    "set_engine(\"kknn\")|>\n",
    "set_mode(\"classification\")\n",
    "\n"
   ]
  },
  {
   "cell_type": "code",
   "execution_count": 44,
   "id": "c786f15e-423a-4a2d-a2bc-c74ecbc7c8bb",
   "metadata": {},
   "outputs": [
    {
     "data": {
      "text/plain": [
       "══ Workflow [trained] ══════════════════════════════════════════════════════════\n",
       "\u001b[3mPreprocessor:\u001b[23m Recipe\n",
       "\u001b[3mModel:\u001b[23m nearest_neighbor()\n",
       "\n",
       "── Preprocessor ────────────────────────────────────────────────────────────────\n",
       "2 Recipe Steps\n",
       "\n",
       "• step_scale()\n",
       "• step_center()\n",
       "\n",
       "── Model ───────────────────────────────────────────────────────────────────────\n",
       "\n",
       "Call:\n",
       "kknn::train.kknn(formula = ..y ~ ., data = data, ks = min_rows(3,     data, 5), kernel = ~\"rectangular\")\n",
       "\n",
       "Type of response variable: nominal\n",
       "Minimal misclassification: 0.05598958\n",
       "Best kernel: rectangular\n",
       "Best k: 3"
      ]
     },
     "metadata": {},
     "output_type": "display_data"
    },
    {
     "data": {
      "text/plain": [
       "══ Workflow [trained] ══════════════════════════════════════════════════════════\n",
       "\u001b[3mPreprocessor:\u001b[23m Recipe\n",
       "\u001b[3mModel:\u001b[23m nearest_neighbor()\n",
       "\n",
       "── Preprocessor ────────────────────────────────────────────────────────────────\n",
       "2 Recipe Steps\n",
       "\n",
       "• step_scale()\n",
       "• step_center()\n",
       "\n",
       "── Model ───────────────────────────────────────────────────────────────────────\n",
       "\n",
       "Call:\n",
       "kknn::train.kknn(formula = ..y ~ ., data = data, ks = min_rows(9,     data, 5), kernel = ~\"rectangular\")\n",
       "\n",
       "Type of response variable: nominal\n",
       "Minimal misclassification: 0.1484375\n",
       "Best kernel: rectangular\n",
       "Best k: 9"
      ]
     },
     "metadata": {},
     "output_type": "display_data"
    }
   ],
   "source": [
    "set.seed(20)\n",
    "#Fitting the models onto the training set\n",
    "knn_fit <- workflow() |>\n",
    "  add_recipe(heart_recipe) |>\n",
    "  add_model(knn_spec3) |>\n",
    "  fit(data = heart_training)\n",
    "knn_fit\n",
    "\n",
    "\n",
    "#This workflow is for k=9 (comment it if you do not need it)\n",
    "knn_fit9<- workflow() |>\n",
    "  add_recipe(heart_recipe) |>\n",
    "  add_model(knn_spec9) |>\n",
    "  fit(data = heart_training)\n",
    "knn_fit9"
   ]
  },
  {
   "cell_type": "code",
   "execution_count": 45,
   "id": "27fdf111-be29-4026-9dba-6c11eaeabbf0",
   "metadata": {},
   "outputs": [
    {
     "name": "stdout",
     "output_type": "stream",
     "text": [
      "Rows: 257\n",
      "Columns: 15\n",
      "$ .pred_class \u001b[3m\u001b[90m<fct>\u001b[39m\u001b[23m 0, 0, 1, 0, 0, 0, 0, 1, 1, 1, 0, 1, 1, 0, 1, 0, 1, 1, 0, 0…\n",
      "$ age         \u001b[3m\u001b[90m<dbl>\u001b[39m\u001b[23m 61, 62, 58, 55, 51, 52, 54, 50, 60, 67, 45, 50, 51, 64, 54…\n",
      "$ sex         \u001b[3m\u001b[90m<dbl>\u001b[39m\u001b[23m 1, 0, 0, 1, 1, 1, 1, 0, 1, 0, 1, 1, 1, 1, 1, 1, 0, 1, 1, 1…\n",
      "$ cp          \u001b[3m\u001b[90m<dbl>\u001b[39m\u001b[23m 0, 0, 0, 0, 0, 0, 0, 1, 2, 0, 0, 2, 3, 0, 2, 0, 1, 0, 0, 0…\n",
      "$ trestbps    \u001b[3m\u001b[90m<dbl>\u001b[39m\u001b[23m 148, 138, 100, 160, 140, 128, 124, 120, 140, 106, 104, 129…\n",
      "$ chol        \u001b[3m\u001b[90m<dbl>\u001b[39m\u001b[23m 203, 294, 248, 289, 298, 204, 266, 244, 185, 223, 208, 196…\n",
      "$ fbs         \u001b[3m\u001b[90m<dbl>\u001b[39m\u001b[23m 0, 1, 0, 0, 0, 1, 0, 0, 0, 0, 0, 0, 0, 0, 0, 0, 0, 0, 0, 0…\n",
      "$ restecg     \u001b[3m\u001b[90m<dbl>\u001b[39m\u001b[23m 1, 1, 0, 0, 1, 1, 0, 1, 0, 1, 0, 1, 0, 1, 0, 0, 1, 1, 1, 1…\n",
      "$ thalach     \u001b[3m\u001b[90m<dbl>\u001b[39m\u001b[23m 161, 106, 122, 145, 122, 156, 109, 162, 155, 142, 148, 163…\n",
      "$ exang       \u001b[3m\u001b[90m<dbl>\u001b[39m\u001b[23m 0, 0, 0, 1, 1, 1, 1, 0, 0, 0, 1, 0, 1, 1, 0, 0, 0, 0, 1, 1…\n",
      "$ oldpeak     \u001b[3m\u001b[90m<dbl>\u001b[39m\u001b[23m 0.0, 1.9, 1.0, 0.8, 4.2, 1.0, 2.2, 1.1, 3.0, 0.3, 3.0, 0.0…\n",
      "$ slope       \u001b[3m\u001b[90m<dbl>\u001b[39m\u001b[23m 2, 1, 1, 1, 1, 1, 1, 2, 1, 2, 1, 2, 2, 1, 1, 2, 2, 2, 0, 0…\n",
      "$ ca          \u001b[3m\u001b[90m<dbl>\u001b[39m\u001b[23m 1, 3, 0, 1, 3, 0, 1, 0, 0, 2, 0, 0, 1, 1, 0, 0, 0, 0, 0, 0…\n",
      "$ thal        \u001b[3m\u001b[90m<dbl>\u001b[39m\u001b[23m 3, 2, 2, 3, 3, 0, 3, 2, 2, 2, 2, 2, 2, 3, 3, 3, 2, 2, 3, 3…\n",
      "$ target      \u001b[3m\u001b[90m<fct>\u001b[39m\u001b[23m 0, 0, 1, 0, 0, 0, 0, 1, 0, 1, 1, 1, 1, 1, 1, 0, 1, 1, 0, 0…\n"
     ]
    }
   ],
   "source": [
    "set.seed(20)\n",
    "#Predicting process\n",
    "heart_test_predictions <- predict(knn_fit, heart_testing) |>\n",
    "  bind_cols(heart_testing)\n",
    "\n",
    "glimpse(heart_test_predictions)\n"
   ]
  },
  {
   "cell_type": "code",
   "execution_count": 46,
   "id": "9d5096e1-025f-41e7-9665-18785b1f09e8",
   "metadata": {},
   "outputs": [
    {
     "data": {
      "text/html": [
       "<table class=\"dataframe\">\n",
       "<caption>A tibble: 1 × 3</caption>\n",
       "<thead>\n",
       "\t<tr><th scope=col>.metric</th><th scope=col>.estimator</th><th scope=col>.estimate</th></tr>\n",
       "\t<tr><th scope=col>&lt;chr&gt;</th><th scope=col>&lt;chr&gt;</th><th scope=col>&lt;dbl&gt;</th></tr>\n",
       "</thead>\n",
       "<tbody>\n",
       "\t<tr><td>accuracy</td><td>binary</td><td>0.9416342</td></tr>\n",
       "</tbody>\n",
       "</table>\n"
      ],
      "text/latex": [
       "A tibble: 1 × 3\n",
       "\\begin{tabular}{lll}\n",
       " .metric & .estimator & .estimate\\\\\n",
       " <chr> & <chr> & <dbl>\\\\\n",
       "\\hline\n",
       "\t accuracy & binary & 0.9416342\\\\\n",
       "\\end{tabular}\n"
      ],
      "text/markdown": [
       "\n",
       "A tibble: 1 × 3\n",
       "\n",
       "| .metric &lt;chr&gt; | .estimator &lt;chr&gt; | .estimate &lt;dbl&gt; |\n",
       "|---|---|---|\n",
       "| accuracy | binary | 0.9416342 |\n",
       "\n"
      ],
      "text/plain": [
       "  .metric  .estimator .estimate\n",
       "1 accuracy binary     0.9416342"
      ]
     },
     "metadata": {},
     "output_type": "display_data"
    }
   ],
   "source": [
    "# Accuracy of the prediction of K=3 model on the testing set\n",
    "heart_test_predictions |>\n",
    "  metrics(truth = target, estimate = .pred_class) |>\n",
    "  filter(.metric == \"accuracy\")\n",
    "\n"
   ]
  },
  {
   "cell_type": "code",
   "execution_count": null,
   "id": "8a2f68a0-0640-4d9b-a5de-ef2d96477f5a",
   "metadata": {},
   "outputs": [],
   "source": []
  }
 ],
 "metadata": {
  "kernelspec": {
   "display_name": "R",
   "language": "R",
   "name": "ir"
  },
  "language_info": {
   "codemirror_mode": "r",
   "file_extension": ".r",
   "mimetype": "text/x-r-source",
   "name": "R",
   "pygments_lexer": "r",
   "version": "4.1.3"
  }
 },
 "nbformat": 4,
 "nbformat_minor": 5
}
