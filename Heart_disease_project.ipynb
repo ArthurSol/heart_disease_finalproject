{
 "cells": [
  {
   "cell_type": "markdown",
   "id": "4b8154dc-82c2-41ac-953d-d0409b6f936e",
   "metadata": {},
   "source": [
    "### INTRODUCTION: "
   ]
  },
  {
   "cell_type": "markdown",
   "id": "2d216ba8-fffe-45be-9555-880d61a13b24",
   "metadata": {},
   "source": [
    "Cardiovascular diseases are responsible for 17.9 million premature deaths per year (WHO, 2021). From coronary heart disease to myocardial infarctions, multiple symptoms account for the disease classification of cardiovascular diseases. A data set published by the University of California Irvine subsets 14 out of 76 attributes or symptoms of heart disease. This project aims to compare the presence or absence of these 14 attributes and its relationship to the diagnosis of heart disease based on the published data set. The overall goal of this project is to answer the question, which of the following 14 attributes is strongly correlated to the diagnosis of heart disease?"
   ]
  },
  {
   "cell_type": "markdown",
   "id": "79236044-041c-448a-b78e-a583b64764e4",
   "metadata": {},
   "source": [
    "### PRELIMINARY DATA ANAYLYSIS: "
   ]
  },
  {
   "cell_type": "markdown",
   "id": "06a8b6b6-d517-4aea-b6ae-9ccb2a5025d0",
   "metadata": {},
   "source": [
    "The  following data involves an initial exploratory data analysis that encompasses cleaning and transforming the data into a tidy format, generating summary tables from the training data for observational analysis, and producing relevant visualizations that aid in comprehending the distribution of each variable."
   ]
  },
  {
   "cell_type": "code",
   "execution_count": 1,
   "id": "f7d275d4-ce52-4237-b732-4fb6b5a96844",
   "metadata": {},
   "outputs": [
    {
     "name": "stderr",
     "output_type": "stream",
     "text": [
      "── \u001b[1mAttaching core tidyverse packages\u001b[22m ──────────────────────────────────────────────────────────────── tidyverse 2.0.0 ──\n",
      "\u001b[32m✔\u001b[39m \u001b[34mdplyr    \u001b[39m 1.1.2     \u001b[32m✔\u001b[39m \u001b[34mreadr    \u001b[39m 2.1.4\n",
      "\u001b[32m✔\u001b[39m \u001b[34mforcats  \u001b[39m 1.0.0     \u001b[32m✔\u001b[39m \u001b[34mstringr  \u001b[39m 1.5.0\n",
      "\u001b[32m✔\u001b[39m \u001b[34mggplot2  \u001b[39m 3.4.2     \u001b[32m✔\u001b[39m \u001b[34mtibble   \u001b[39m 3.2.1\n",
      "\u001b[32m✔\u001b[39m \u001b[34mlubridate\u001b[39m 1.9.2     \u001b[32m✔\u001b[39m \u001b[34mtidyr    \u001b[39m 1.3.0\n",
      "\u001b[32m✔\u001b[39m \u001b[34mpurrr    \u001b[39m 1.0.1     \n",
      "── \u001b[1mConflicts\u001b[22m ────────────────────────────────────────────────────────────────────────────────── tidyverse_conflicts() ──\n",
      "\u001b[31m✖\u001b[39m \u001b[34mdplyr\u001b[39m::\u001b[32mfilter()\u001b[39m masks \u001b[34mstats\u001b[39m::filter()\n",
      "\u001b[31m✖\u001b[39m \u001b[34mdplyr\u001b[39m::\u001b[32mlag()\u001b[39m    masks \u001b[34mstats\u001b[39m::lag()\n",
      "\u001b[36mℹ\u001b[39m Use the conflicted package (\u001b[3m\u001b[34m<http://conflicted.r-lib.org/>\u001b[39m\u001b[23m) to force all conflicts to become errors\n",
      "── \u001b[1mAttaching packages\u001b[22m ────────────────────────────────────────────────────────────────────────────── tidymodels 1.1.0 ──\n",
      "\n",
      "\u001b[32m✔\u001b[39m \u001b[34mbroom       \u001b[39m 1.0.5     \u001b[32m✔\u001b[39m \u001b[34mrsample     \u001b[39m 1.1.1\n",
      "\u001b[32m✔\u001b[39m \u001b[34mdials       \u001b[39m 1.2.0     \u001b[32m✔\u001b[39m \u001b[34mtune        \u001b[39m 1.1.1\n",
      "\u001b[32m✔\u001b[39m \u001b[34minfer       \u001b[39m 1.0.4     \u001b[32m✔\u001b[39m \u001b[34mworkflows   \u001b[39m 1.1.3\n",
      "\u001b[32m✔\u001b[39m \u001b[34mmodeldata   \u001b[39m 1.1.0     \u001b[32m✔\u001b[39m \u001b[34mworkflowsets\u001b[39m 1.0.1\n",
      "\u001b[32m✔\u001b[39m \u001b[34mparsnip     \u001b[39m 1.1.0     \u001b[32m✔\u001b[39m \u001b[34myardstick   \u001b[39m 1.2.0\n",
      "\u001b[32m✔\u001b[39m \u001b[34mrecipes     \u001b[39m 1.0.6     \n",
      "\n",
      "── \u001b[1mConflicts\u001b[22m ───────────────────────────────────────────────────────────────────────────────── tidymodels_conflicts() ──\n",
      "\u001b[31m✖\u001b[39m \u001b[34mscales\u001b[39m::\u001b[32mdiscard()\u001b[39m masks \u001b[34mpurrr\u001b[39m::discard()\n",
      "\u001b[31m✖\u001b[39m \u001b[34mdplyr\u001b[39m::\u001b[32mfilter()\u001b[39m   masks \u001b[34mstats\u001b[39m::filter()\n",
      "\u001b[31m✖\u001b[39m \u001b[34mrecipes\u001b[39m::\u001b[32mfixed()\u001b[39m  masks \u001b[34mstringr\u001b[39m::fixed()\n",
      "\u001b[31m✖\u001b[39m \u001b[34mdplyr\u001b[39m::\u001b[32mlag()\u001b[39m      masks \u001b[34mstats\u001b[39m::lag()\n",
      "\u001b[31m✖\u001b[39m \u001b[34myardstick\u001b[39m::\u001b[32mspec()\u001b[39m masks \u001b[34mreadr\u001b[39m::spec()\n",
      "\u001b[31m✖\u001b[39m \u001b[34mrecipes\u001b[39m::\u001b[32mstep()\u001b[39m   masks \u001b[34mstats\u001b[39m::step()\n",
      "\u001b[34m•\u001b[39m Dig deeper into tidy modeling with R at \u001b[32mhttps://www.tmwr.org\u001b[39m\n",
      "\n",
      "\n",
      "Attaching package: 'cowplot'\n",
      "\n",
      "\n",
      "The following object is masked from 'package:lubridate':\n",
      "\n",
      "    stamp\n",
      "\n",
      "\n"
     ]
    }
   ],
   "source": [
    "#libraries to install\n",
    "library(tidyverse)\n",
    "library(repr)\n",
    "library(readxl)\n",
    "library(tidymodels)\n",
    "library(cowplot)"
   ]
  },
  {
   "cell_type": "markdown",
   "id": "2cd8bcff-e461-444c-9686-91797731a1e1",
   "metadata": {},
   "source": [
    "First load the data. Using the `head()` function, quickly examine the first 6 rows"
   ]
  },
  {
   "cell_type": "code",
   "execution_count": 2,
   "id": "adf91423-7eb1-4396-9654-e36200dee1f9",
   "metadata": {},
   "outputs": [
    {
     "name": "stderr",
     "output_type": "stream",
     "text": [
      "\u001b[1mRows: \u001b[22m\u001b[34m1025\u001b[39m \u001b[1mColumns: \u001b[22m\u001b[34m14\u001b[39m\n",
      "\u001b[36m──\u001b[39m \u001b[1mColumn specification\u001b[22m \u001b[36m────────────────────────────────────────────────────────────────────────────────────────────────\u001b[39m\n",
      "\u001b[1mDelimiter:\u001b[22m \",\"\n",
      "\u001b[32mdbl\u001b[39m (14): age, sex, cp, trestbps, chol, fbs, restecg, thalach, exang, oldpea...\n",
      "\n",
      "\u001b[36mℹ\u001b[39m Use `spec()` to retrieve the full column specification for this data.\n",
      "\u001b[36mℹ\u001b[39m Specify the column types or set `show_col_types = FALSE` to quiet this message.\n"
     ]
    },
    {
     "data": {
      "text/html": [
       "<table class=\"dataframe\">\n",
       "<caption>A tibble: 6 × 14</caption>\n",
       "<thead>\n",
       "\t<tr><th scope=col>age</th><th scope=col>sex</th><th scope=col>cp</th><th scope=col>trestbps</th><th scope=col>chol</th><th scope=col>fbs</th><th scope=col>restecg</th><th scope=col>thalach</th><th scope=col>exang</th><th scope=col>oldpeak</th><th scope=col>slope</th><th scope=col>ca</th><th scope=col>thal</th><th scope=col>target</th></tr>\n",
       "\t<tr><th scope=col>&lt;dbl&gt;</th><th scope=col>&lt;dbl&gt;</th><th scope=col>&lt;dbl&gt;</th><th scope=col>&lt;dbl&gt;</th><th scope=col>&lt;dbl&gt;</th><th scope=col>&lt;dbl&gt;</th><th scope=col>&lt;dbl&gt;</th><th scope=col>&lt;dbl&gt;</th><th scope=col>&lt;dbl&gt;</th><th scope=col>&lt;dbl&gt;</th><th scope=col>&lt;dbl&gt;</th><th scope=col>&lt;dbl&gt;</th><th scope=col>&lt;dbl&gt;</th><th scope=col>&lt;fct&gt;</th></tr>\n",
       "</thead>\n",
       "<tbody>\n",
       "\t<tr><td>52</td><td>1</td><td>0</td><td>125</td><td>212</td><td>0</td><td>1</td><td>168</td><td>0</td><td>1.0</td><td>2</td><td>2</td><td>3</td><td>0</td></tr>\n",
       "\t<tr><td>53</td><td>1</td><td>0</td><td>140</td><td>203</td><td>1</td><td>0</td><td>155</td><td>1</td><td>3.1</td><td>0</td><td>0</td><td>3</td><td>0</td></tr>\n",
       "\t<tr><td>70</td><td>1</td><td>0</td><td>145</td><td>174</td><td>0</td><td>1</td><td>125</td><td>1</td><td>2.6</td><td>0</td><td>0</td><td>3</td><td>0</td></tr>\n",
       "\t<tr><td>61</td><td>1</td><td>0</td><td>148</td><td>203</td><td>0</td><td>1</td><td>161</td><td>0</td><td>0.0</td><td>2</td><td>1</td><td>3</td><td>0</td></tr>\n",
       "\t<tr><td>62</td><td>0</td><td>0</td><td>138</td><td>294</td><td>1</td><td>1</td><td>106</td><td>0</td><td>1.9</td><td>1</td><td>3</td><td>2</td><td>0</td></tr>\n",
       "\t<tr><td>58</td><td>0</td><td>0</td><td>100</td><td>248</td><td>0</td><td>0</td><td>122</td><td>0</td><td>1.0</td><td>1</td><td>0</td><td>2</td><td>1</td></tr>\n",
       "</tbody>\n",
       "</table>\n"
      ],
      "text/latex": [
       "A tibble: 6 × 14\n",
       "\\begin{tabular}{llllllllllllll}\n",
       " age & sex & cp & trestbps & chol & fbs & restecg & thalach & exang & oldpeak & slope & ca & thal & target\\\\\n",
       " <dbl> & <dbl> & <dbl> & <dbl> & <dbl> & <dbl> & <dbl> & <dbl> & <dbl> & <dbl> & <dbl> & <dbl> & <dbl> & <fct>\\\\\n",
       "\\hline\n",
       "\t 52 & 1 & 0 & 125 & 212 & 0 & 1 & 168 & 0 & 1.0 & 2 & 2 & 3 & 0\\\\\n",
       "\t 53 & 1 & 0 & 140 & 203 & 1 & 0 & 155 & 1 & 3.1 & 0 & 0 & 3 & 0\\\\\n",
       "\t 70 & 1 & 0 & 145 & 174 & 0 & 1 & 125 & 1 & 2.6 & 0 & 0 & 3 & 0\\\\\n",
       "\t 61 & 1 & 0 & 148 & 203 & 0 & 1 & 161 & 0 & 0.0 & 2 & 1 & 3 & 0\\\\\n",
       "\t 62 & 0 & 0 & 138 & 294 & 1 & 1 & 106 & 0 & 1.9 & 1 & 3 & 2 & 0\\\\\n",
       "\t 58 & 0 & 0 & 100 & 248 & 0 & 0 & 122 & 0 & 1.0 & 1 & 0 & 2 & 1\\\\\n",
       "\\end{tabular}\n"
      ],
      "text/markdown": [
       "\n",
       "A tibble: 6 × 14\n",
       "\n",
       "| age &lt;dbl&gt; | sex &lt;dbl&gt; | cp &lt;dbl&gt; | trestbps &lt;dbl&gt; | chol &lt;dbl&gt; | fbs &lt;dbl&gt; | restecg &lt;dbl&gt; | thalach &lt;dbl&gt; | exang &lt;dbl&gt; | oldpeak &lt;dbl&gt; | slope &lt;dbl&gt; | ca &lt;dbl&gt; | thal &lt;dbl&gt; | target &lt;fct&gt; |\n",
       "|---|---|---|---|---|---|---|---|---|---|---|---|---|---|\n",
       "| 52 | 1 | 0 | 125 | 212 | 0 | 1 | 168 | 0 | 1.0 | 2 | 2 | 3 | 0 |\n",
       "| 53 | 1 | 0 | 140 | 203 | 1 | 0 | 155 | 1 | 3.1 | 0 | 0 | 3 | 0 |\n",
       "| 70 | 1 | 0 | 145 | 174 | 0 | 1 | 125 | 1 | 2.6 | 0 | 0 | 3 | 0 |\n",
       "| 61 | 1 | 0 | 148 | 203 | 0 | 1 | 161 | 0 | 0.0 | 2 | 1 | 3 | 0 |\n",
       "| 62 | 0 | 0 | 138 | 294 | 1 | 1 | 106 | 0 | 1.9 | 1 | 3 | 2 | 0 |\n",
       "| 58 | 0 | 0 | 100 | 248 | 0 | 0 | 122 | 0 | 1.0 | 1 | 0 | 2 | 1 |\n",
       "\n"
      ],
      "text/plain": [
       "  age sex cp trestbps chol fbs restecg thalach exang oldpeak slope ca thal\n",
       "1 52  1   0  125      212  0   1       168     0     1.0     2     2  3   \n",
       "2 53  1   0  140      203  1   0       155     1     3.1     0     0  3   \n",
       "3 70  1   0  145      174  0   1       125     1     2.6     0     0  3   \n",
       "4 61  1   0  148      203  0   1       161     0     0.0     2     1  3   \n",
       "5 62  0   0  138      294  1   1       106     0     1.9     1     3  2   \n",
       "6 58  0   0  100      248  0   0       122     0     1.0     1     0  2   \n",
       "  target\n",
       "1 0     \n",
       "2 0     \n",
       "3 0     \n",
       "4 0     \n",
       "5 0     \n",
       "6 1     "
      ]
     },
     "metadata": {},
     "output_type": "display_data"
    }
   ],
   "source": [
    "#reading the data\n",
    "heart_data <- read_csv(\"data/heart.csv\")\n",
    "\n",
    "heart_data <- heart_data |>\n",
    "    mutate(target = as_factor(target))\n",
    "head(heart_data)"
   ]
  },
  {
   "cell_type": "code",
   "execution_count": 3,
   "id": "357fe006-f3d0-466a-a21a-cdf0959134f6",
   "metadata": {},
   "outputs": [],
   "source": [
    "#RUN THESE ONLY IF YOU WANT TO LOOK AT DATA OF PEOPLE HAVING HEART DISEASE VS NO HEART DISEASE\n",
    "#exploratory_table1<-heart_data|>\n",
    "#filter(target== 1)\n",
    "#exploratory_table1\n",
    "\n",
    "#exploratory_table2<-heart_data|>\n",
    "#filter(target== 0)\n",
    "#exploratory_table2"
   ]
  },
  {
   "cell_type": "code",
   "execution_count": 4,
   "id": "077d56ce-40d1-495f-827c-c7d6555a31a8",
   "metadata": {},
   "outputs": [],
   "source": [
    "# Set random seed for reproducible workflow\n",
    "set.seed(20)\n",
    "# Compute correlations\n",
    "#correlations <- cor(heart_data)\n",
    "\n",
    "# Get correlations with target\n",
    "#cor_with_target <- correlations[\"target\",]\n",
    "#sorted_cor <- sort(abs(cor_with_target), decreasing = TRUE)\n",
    "#print(sorted_cor)"
   ]
  },
  {
   "cell_type": "markdown",
   "id": "e92e4b9c-ffd8-4846-a03c-915010b1a17f",
   "metadata": {},
   "source": [
    "The project aims to explore the variables of a published data set, and its relation to the presence/absence of heart disease.  \n",
    "Project goals: \n",
    "1. Classify whether a patient has heart disease or not (label 0/1, binary)\n",
    "2. Further exploration to see if any features are more strongly correlated to the label  \n",
    "\n",
    "This project is a classification problem in its nature. We will start to process the data as such.  \n",
    "First, we will need to create the train/test dataset split, as in any machine learning problem."
   ]
  },
  {
   "cell_type": "code",
   "execution_count": 5,
   "id": "a3eab5e7-8a08-4547-a0d0-c3cd3d100432",
   "metadata": {},
   "outputs": [],
   "source": [
    "# creating the split\n",
    "heart_split <- initial_split(heart_data, prop = 0.75, strata = target)\n",
    "heart_training <- training(heart_split)\n",
    "heart_testing <- testing(heart_split)\n",
    "\n",
    "# Convert the target variable to a factor\n",
    "heart_training <- heart_training |>\n",
    "    mutate(target = as_factor(target))"
   ]
  },
  {
   "cell_type": "markdown",
   "id": "c6d92b6f-f395-4589-b6de-198c66642979",
   "metadata": {},
   "source": [
    "In a classification problem, it is important to ensure that the dataset is balanced, or that it is processed so it is."
   ]
  },
  {
   "cell_type": "code",
   "execution_count": 6,
   "id": "87efe7c1-6d30-4460-ba46-10ccac4055a5",
   "metadata": {
    "tags": []
   },
   "outputs": [
    {
     "name": "stdout",
     "output_type": "stream",
     "text": [
      "[1] \"Number of observations in group 0 (no heart disease) and group 1 (heart disease)\"\n"
     ]
    },
    {
     "data": {
      "text/html": [
       "<table class=\"dataframe\">\n",
       "<caption>A tibble: 2 × 2</caption>\n",
       "<thead>\n",
       "\t<tr><th scope=col>target</th><th scope=col>n</th></tr>\n",
       "\t<tr><th scope=col>&lt;fct&gt;</th><th scope=col>&lt;int&gt;</th></tr>\n",
       "</thead>\n",
       "<tbody>\n",
       "\t<tr><td>0</td><td>374</td></tr>\n",
       "\t<tr><td>1</td><td>394</td></tr>\n",
       "</tbody>\n",
       "</table>\n"
      ],
      "text/latex": [
       "A tibble: 2 × 2\n",
       "\\begin{tabular}{ll}\n",
       " target & n\\\\\n",
       " <fct> & <int>\\\\\n",
       "\\hline\n",
       "\t 0 & 374\\\\\n",
       "\t 1 & 394\\\\\n",
       "\\end{tabular}\n"
      ],
      "text/markdown": [
       "\n",
       "A tibble: 2 × 2\n",
       "\n",
       "| target &lt;fct&gt; | n &lt;int&gt; |\n",
       "|---|---|\n",
       "| 0 | 374 |\n",
       "| 1 | 394 |\n",
       "\n"
      ],
      "text/plain": [
       "  target n  \n",
       "1 0      374\n",
       "2 1      394"
      ]
     },
     "metadata": {},
     "output_type": "display_data"
    },
    {
     "data": {
      "image/png": "[encoded data removed]",
      "text/plain": [
       "plot without title"
      ]
     },
     "metadata": {
      "image/png": {
       "height": 420,
       "width": 420
      }
     },
     "output_type": "display_data"
    }
   ],
   "source": [
    "# number of people with heart disease vs no heart disease in the training dataset.\n",
    "heart_target_groups <- heart_training |>\n",
    "    group_by(target) |>\n",
    "    summarize(n=n())\n",
    "print(\"Number of observations in group 0 (no heart disease) and group 1 (heart disease)\")\n",
    "heart_target_groups\n",
    "heart_training2 <- heart_training |>\n",
    "    mutate(target = as.numeric(target))\n",
    "class_plot <- ggplot(heart_training, aes(x = target)) + \n",
    "    geom_bar(fill = 'royalblue', color = '#e0ffff') +\n",
    "    labs(x = \"Binary class - presence of heart disease\") + \n",
    "    ggtitle(\"Distribution of Class Labels\") + \n",
    "    theme(text = element_text(size = 16)) \n",
    "class_plot"
   ]
  },
  {
   "cell_type": "markdown",
   "id": "1cab4ff4-0707-4c0f-ac87-934aeb73c917",
   "metadata": {},
   "source": [
    "From here we will show some preliminary summary statistics of the predictor variables."
   ]
  },
  {
   "cell_type": "code",
   "execution_count": 7,
   "id": "6f05b26c-83ea-429e-86b7-03a124274854",
   "metadata": {},
   "outputs": [
    {
     "name": "stdout",
     "output_type": "stream",
     "text": [
      "[1] \"The average of some of the predictor variables\"\n"
     ]
    },
    {
     "data": {
      "text/html": [
       "<table class=\"dataframe\">\n",
       "<caption>A tibble: 1 × 3</caption>\n",
       "<thead>\n",
       "\t<tr><th scope=col>mean_age</th><th scope=col>mean_trestbps</th><th scope=col>mean_chol</th></tr>\n",
       "\t<tr><th scope=col>&lt;dbl&gt;</th><th scope=col>&lt;dbl&gt;</th><th scope=col>&lt;dbl&gt;</th></tr>\n",
       "</thead>\n",
       "<tbody>\n",
       "\t<tr><td>54.42578</td><td>131.8828</td><td>246.5508</td></tr>\n",
       "</tbody>\n",
       "</table>\n"
      ],
      "text/latex": [
       "A tibble: 1 × 3\n",
       "\\begin{tabular}{lll}\n",
       " mean\\_age & mean\\_trestbps & mean\\_chol\\\\\n",
       " <dbl> & <dbl> & <dbl>\\\\\n",
       "\\hline\n",
       "\t 54.42578 & 131.8828 & 246.5508\\\\\n",
       "\\end{tabular}\n"
      ],
      "text/markdown": [
       "\n",
       "A tibble: 1 × 3\n",
       "\n",
       "| mean_age &lt;dbl&gt; | mean_trestbps &lt;dbl&gt; | mean_chol &lt;dbl&gt; |\n",
       "|---|---|---|\n",
       "| 54.42578 | 131.8828 | 246.5508 |\n",
       "\n"
      ],
      "text/plain": [
       "  mean_age mean_trestbps mean_chol\n",
       "1 54.42578 131.8828      246.5508 "
      ]
     },
     "metadata": {},
     "output_type": "display_data"
    }
   ],
   "source": [
    "#predictors average \n",
    "heart_predictors_avg <- heart_training |>\n",
    "    summarise(\n",
    "        mean_age = mean(age, na.rm = TRUE),\n",
    "        mean_trestbps = mean(trestbps, na.rm = TRUE),\n",
    "        mean_chol = mean(chol, na.rm = TRUE)\n",
    "    )\n",
    "print(\"The average of some of the predictor variables\")\n",
    "\n",
    "heart_predictors_avg"
   ]
  },
  {
   "cell_type": "markdown",
   "id": "0d44bd71-1c0a-4c21-9638-3e9b3eb120bf",
   "metadata": {
    "tags": []
   },
   "source": [
    "#### Preliminary Summary - Chest Pain"
   ]
  },
  {
   "cell_type": "code",
   "execution_count": 8,
   "id": "f92b163e-670e-4392-b1cf-af508c7bf303",
   "metadata": {},
   "outputs": [
    {
     "data": {
      "text/html": [
       "<table class=\"dataframe\">\n",
       "<caption>A tibble: 4 × 3</caption>\n",
       "<thead>\n",
       "\t<tr><th scope=col>cp</th><th scope=col>count</th><th scope=col>description</th></tr>\n",
       "\t<tr><th scope=col>&lt;dbl&gt;</th><th scope=col>&lt;int&gt;</th><th scope=col>&lt;chr&gt;</th></tr>\n",
       "</thead>\n",
       "<tbody>\n",
       "\t<tr><td>0</td><td>371</td><td>Typical Angina </td></tr>\n",
       "\t<tr><td>1</td><td>129</td><td>Atypical Angina</td></tr>\n",
       "\t<tr><td>2</td><td>215</td><td>Non-angina Pain</td></tr>\n",
       "\t<tr><td>3</td><td> 53</td><td>Asymptomatic   </td></tr>\n",
       "</tbody>\n",
       "</table>\n"
      ],
      "text/latex": [
       "A tibble: 4 × 3\n",
       "\\begin{tabular}{lll}\n",
       " cp & count & description\\\\\n",
       " <dbl> & <int> & <chr>\\\\\n",
       "\\hline\n",
       "\t 0 & 371 & Typical Angina \\\\\n",
       "\t 1 & 129 & Atypical Angina\\\\\n",
       "\t 2 & 215 & Non-angina Pain\\\\\n",
       "\t 3 &  53 & Asymptomatic   \\\\\n",
       "\\end{tabular}\n"
      ],
      "text/markdown": [
       "\n",
       "A tibble: 4 × 3\n",
       "\n",
       "| cp &lt;dbl&gt; | count &lt;int&gt; | description &lt;chr&gt; |\n",
       "|---|---|---|\n",
       "| 0 | 371 | Typical Angina  |\n",
       "| 1 | 129 | Atypical Angina |\n",
       "| 2 | 215 | Non-angina Pain |\n",
       "| 3 |  53 | Asymptomatic    |\n",
       "\n"
      ],
      "text/plain": [
       "  cp count description    \n",
       "1 0  371   Typical Angina \n",
       "2 1  129   Atypical Angina\n",
       "3 2  215   Non-angina Pain\n",
       "4 3   53   Asymptomatic   "
      ]
     },
     "metadata": {},
     "output_type": "display_data"
    },
    {
     "name": "stderr",
     "output_type": "stream",
     "text": [
      "Warning message:\n",
      "\"\u001b[1m\u001b[22mThe dot-dot notation (`..count..`) was deprecated in ggplot2 3.4.0.\n",
      "\u001b[36mℹ\u001b[39m Please use `after_stat(count)` instead.\"\n"
     ]
    },
    {
     "data": {
      "image/png": "[encoded data removed]",
      "text/plain": [
       "plot without title"
      ]
     },
     "metadata": {
      "image/png": {
       "height": 420,
       "width": 420
      }
     },
     "output_type": "display_data"
    }
   ],
   "source": [
    "chest_pain_count <- heart_training |>\n",
    "    group_by(cp) |>\n",
    "    summarize(count = n()) |>\n",
    "    mutate(description = c(\"Typical Angina\", \"Atypical Angina\", \"Non-angina Pain\", \"Asymptomatic\"))\n",
    "chest_pain_count\n",
    "\n",
    "chest_pain_freq <- ggplot(heart_training, aes(x = cp)) + \n",
    "    geom_histogram(binwidth = 1, color = '#e0ffff', fill = 'royalblue') + \n",
    "    labs(x = \"Chest Pain Type\") + \n",
    "    theme(text = element_text(size = 16)) +\n",
    "    ggtitle(\"Frequency of Chest Pain Types\") +\n",
    "    stat_bin(binwidth=1, geom='text', color='white', aes(label=..count..),\n",
    "             position=position_stack(vjust = 0.5), size = 12)\n",
    "chest_pain_freq"
   ]
  },
  {
   "cell_type": "markdown",
   "id": "6955e3de-2651-4091-84a2-5ae721279bfc",
   "metadata": {
    "tags": []
   },
   "source": [
    "#### Preliminary Summary - Sex"
   ]
  },
  {
   "cell_type": "code",
   "execution_count": 9,
   "id": "0aa15585-6b33-4d7d-b3fe-b9b2630beaa6",
   "metadata": {},
   "outputs": [
    {
     "data": {
      "image/png": "[encoded data removed]",
      "text/plain": [
       "plot without title"
      ]
     },
     "metadata": {
      "image/png": {
       "height": 420,
       "width": 420
      }
     },
     "output_type": "display_data"
    }
   ],
   "source": [
    "#using an average for categorical sex variable does not make sense, therefore I used count\n",
    "sex_count <- heart_training |>\n",
    "    group_by(sex) |>\n",
    "    summarize(count = n()) |>\n",
    "    mutate(description = c(\"Female\",\"Male\"))\n",
    "\n",
    "sex_count_plot <- ggplot(heart_training, aes(x = sex)) + \n",
    "    geom_bar(color = '#e0ffff', fill = 'royalblue') + \n",
    "    labs(x = \"Sex\") + \n",
    "    ggtitle(\"Distribution of sex\") + \n",
    "    theme(text = element_text(size = 16)) +\n",
    "    stat_bin(binwidth=1, geom='text', color='white', aes(label=..count..),\n",
    "             position=position_stack(vjust = 0.5), size = 12)\n",
    "sex_count_plot"
   ]
  },
  {
   "cell_type": "markdown",
   "id": "ebeb8cc8-fc96-4472-8989-3b42e7347666",
   "metadata": {
    "tags": []
   },
   "source": [
    "#### Preliminary Summary - Cholesterol"
   ]
  },
  {
   "cell_type": "code",
   "execution_count": 10,
   "id": "1b203f97-0191-4991-b428-d0282cd70fb2",
   "metadata": {},
   "outputs": [
    {
     "data": {
      "text/html": [
       "<table class=\"dataframe\">\n",
       "<caption>A tibble: 1 × 3</caption>\n",
       "<thead>\n",
       "\t<tr><th scope=col>mean_chol</th><th scope=col>min_chol</th><th scope=col>max_chol</th></tr>\n",
       "\t<tr><th scope=col>&lt;dbl&gt;</th><th scope=col>&lt;dbl&gt;</th><th scope=col>&lt;dbl&gt;</th></tr>\n",
       "</thead>\n",
       "<tbody>\n",
       "\t<tr><td>246.5508</td><td>126</td><td>564</td></tr>\n",
       "</tbody>\n",
       "</table>\n"
      ],
      "text/latex": [
       "A tibble: 1 × 3\n",
       "\\begin{tabular}{lll}\n",
       " mean\\_chol & min\\_chol & max\\_chol\\\\\n",
       " <dbl> & <dbl> & <dbl>\\\\\n",
       "\\hline\n",
       "\t 246.5508 & 126 & 564\\\\\n",
       "\\end{tabular}\n"
      ],
      "text/markdown": [
       "\n",
       "A tibble: 1 × 3\n",
       "\n",
       "| mean_chol &lt;dbl&gt; | min_chol &lt;dbl&gt; | max_chol &lt;dbl&gt; |\n",
       "|---|---|---|\n",
       "| 246.5508 | 126 | 564 |\n",
       "\n"
      ],
      "text/plain": [
       "  mean_chol min_chol max_chol\n",
       "1 246.5508  126      564     "
      ]
     },
     "metadata": {},
     "output_type": "display_data"
    },
    {
     "name": "stdout",
     "output_type": "stream",
     "text": [
      "[1] \"Distribution of cholesterol levels of all patients - vertical line shows the mean\"\n"
     ]
    },
    {
     "data": {
      "image/png": "[encoded data removed]",
      "text/plain": [
       "plot without title"
      ]
     },
     "metadata": {
      "image/png": {
       "height": 420,
       "width": 420
      }
     },
     "output_type": "display_data"
    }
   ],
   "source": [
    "#cholesterol detailed summary\n",
    "chol_summary <- heart_training |>\n",
    "summarise (mean_chol = mean(chol, na.rm = TRUE),\n",
    "           min_chol = min(chol, na.rm = TRUE),\n",
    "           max_chol = max(chol, na.rm = TRUE))\n",
    "chol_summary\n",
    "\n",
    "print(\"Distribution of cholesterol levels of all patients - vertical line shows the mean\")\n",
    "chol_dist_all <- heart_training |>\n",
    "    ggplot(aes(x = chol)) + \n",
    "    geom_histogram(binwidth = 20, fill = 'royalblue', color = '#e0ffff') + \n",
    "    labs(x = \"Serum Cholesterol levels in mg/dl\") + \n",
    "    ggtitle(\"Distribution of cholesterol levels (mg/dl)\") + \n",
    "    geom_vline(xintercept = 246.5508) +\n",
    "    theme(text = element_text(size = 16)) \n",
    "\n",
    "chol_dist_all"
   ]
  },
  {
   "cell_type": "code",
   "execution_count": 11,
   "id": "30e05631-e84d-4a8e-a925-49ebccf48ba9",
   "metadata": {},
   "outputs": [
    {
     "name": "stdout",
     "output_type": "stream",
     "text": [
      "[1] \"Distribution of cholesterol levels by label\"\n"
     ]
    },
    {
     "data": {
      "image/png": "[encoded data removed]",
      "text/plain": [
       "plot without title"
      ]
     },
     "metadata": {
      "image/png": {
       "height": 420,
       "width": 420
      }
     },
     "output_type": "display_data"
    }
   ],
   "source": [
    "print(\"Distribution of cholesterol levels by label\")\n",
    "chol_plot <- heart_training |>\n",
    "ggplot(aes(x = factor(target), y = chol)) + \n",
    "    geom_boxplot(outlier.colour = 'red', color = 'royalblue', fill = 'white') +\n",
    "    labs(x = \"Heart Disease Presence\", \n",
    "         y = \"Serum Cholesterol\",\n",
    "         title = \"Boxplot of Serum Cholesterol by Heart Disease Presence\") + \n",
    "    theme(text = element_text(size = 16)) \n",
    "\n",
    "chol_plot"
   ]
  },
  {
   "cell_type": "markdown",
   "id": "422fb5ff-01ed-4e24-9343-8da93c92d2fc",
   "metadata": {},
   "source": [
    "In the above box plot, the boxes display the interquartile range (IQR) and the whiskers are 1.5 * IQR. "
   ]
  },
  {
   "cell_type": "markdown",
   "id": "9c729679-ba67-4a7a-b152-a0161034f791",
   "metadata": {
    "tags": []
   },
   "source": [
    "#### Preliminary Summary - Resting Blood Pressure"
   ]
  },
  {
   "cell_type": "code",
   "execution_count": 12,
   "id": "b2e48cbc-d84a-4123-b9c7-61efbf4182d4",
   "metadata": {},
   "outputs": [
    {
     "data": {
      "text/html": [
       "<table class=\"dataframe\">\n",
       "<caption>A tibble: 1 × 3</caption>\n",
       "<thead>\n",
       "\t<tr><th scope=col>mean_trestbps</th><th scope=col>min_trestbps</th><th scope=col>max_trestbps</th></tr>\n",
       "\t<tr><th scope=col>&lt;dbl&gt;</th><th scope=col>&lt;dbl&gt;</th><th scope=col>&lt;dbl&gt;</th></tr>\n",
       "</thead>\n",
       "<tbody>\n",
       "\t<tr><td>131.8828</td><td>94</td><td>200</td></tr>\n",
       "</tbody>\n",
       "</table>\n"
      ],
      "text/latex": [
       "A tibble: 1 × 3\n",
       "\\begin{tabular}{lll}\n",
       " mean\\_trestbps & min\\_trestbps & max\\_trestbps\\\\\n",
       " <dbl> & <dbl> & <dbl>\\\\\n",
       "\\hline\n",
       "\t 131.8828 & 94 & 200\\\\\n",
       "\\end{tabular}\n"
      ],
      "text/markdown": [
       "\n",
       "A tibble: 1 × 3\n",
       "\n",
       "| mean_trestbps &lt;dbl&gt; | min_trestbps &lt;dbl&gt; | max_trestbps &lt;dbl&gt; |\n",
       "|---|---|---|\n",
       "| 131.8828 | 94 | 200 |\n",
       "\n"
      ],
      "text/plain": [
       "  mean_trestbps min_trestbps max_trestbps\n",
       "1 131.8828      94           200         "
      ]
     },
     "metadata": {},
     "output_type": "display_data"
    },
    {
     "data": {
      "image/png": "[encoded data removed]",
      "text/plain": [
       "plot without title"
      ]
     },
     "metadata": {
      "image/png": {
       "height": 420,
       "width": 420
      }
     },
     "output_type": "display_data"
    }
   ],
   "source": [
    "#Resting blood pressure detailed summary\n",
    "trestbps_summary <- heart_training |>\n",
    "    summarise(mean_trestbps = mean(trestbps, na.rm = TRUE),\n",
    "    min_trestbps = min(trestbps, na.rm = TRUE),\n",
    "    max_trestbps = max(trestbps, na.rm = TRUE) )\n",
    "\n",
    "trestbps_summary\n",
    "\n",
    "bp_hist <- heart_training |>\n",
    "    ggplot(aes(x=trestbps)) +\n",
    "    geom_histogram(binwidth = 10, color = '#e0ffff', fill = 'royalblue') +\n",
    "    labs(x = \"Resting Blood Pressure\", y = \"Count\", title = \"Resting Blood Pressure in Training Data\") +\n",
    "    theme(text = element_text(size = 16)) \n",
    "\n",
    "  \n",
    "bp_hist"
   ]
  },
  {
   "cell_type": "markdown",
   "id": "082b0295-8d76-4ecb-8bb3-9a14368c4ef8",
   "metadata": {
    "tags": []
   },
   "source": [
    "#### Preliminary Summary - Age"
   ]
  },
  {
   "cell_type": "code",
   "execution_count": 13,
   "id": "320badaf-16ba-4302-a7da-e32050cdfbbd",
   "metadata": {},
   "outputs": [
    {
     "data": {
      "image/png": "[encoded data removed]",
      "text/plain": [
       "plot without title"
      ]
     },
     "metadata": {
      "image/png": {
       "height": 360,
       "width": 600
      }
     },
     "output_type": "display_data"
    }
   ],
   "source": [
    "options(repr.plot.width = 10, repr.plot.height = 6)\n",
    "\n",
    "age_hist <- heart_training |>\n",
    "    ggplot(aes(x=age)) +\n",
    "    geom_histogram(binwidth = 1, fill = 'royalblue', color = '#e0ffff') +\n",
    "    labs(x = \"Age\", y = \"Count\", title = \"Histogram of Age in Training Data\") + \n",
    "    theme(text = element_text(size = 16))\n",
    "age_hist_bin2 <- heart_training |>\n",
    "    ggplot(aes(x = age)) + \n",
    "    geom_histogram(binwidth = 2, fill = 'royalblue', color = '#e0ffff') + \n",
    "    labs(x = \"Age\", y = \"Count\", title = \"Histogram of Age in Training Data (binwidth = 2)\") + \n",
    "    theme(text = element_text(size = 16))\n",
    "  \n",
    "cowplot::plot_grid(age_hist, age_hist_bin2, ncol = 2)"
   ]
  },
  {
   "cell_type": "markdown",
   "id": "6734c8db-eeae-4f99-a126-b347d1da00fa",
   "metadata": {},
   "source": [
    "Most of the patients seem to be around age 55-60, but the distribution in age is bimodal, (as more visible in the binwidth = 2 plot) with the second peak at ~45 years old."
   ]
  },
  {
   "cell_type": "markdown",
   "id": "9b65931c-1117-42ec-ab80-ba5f52bd8ee3",
   "metadata": {},
   "source": [
    "### METHODS:"
   ]
  },
  {
   "cell_type": "markdown",
   "id": "c5607861-9d3a-4f61-8dac-911952ee7550",
   "metadata": {},
   "source": [
    "Utilizing Jupyter Notebook and R, we will import the Heart Disease dataset from the UCI repository using the read.csv() function. Our analysis centers on 14 clinical attributes, with the \"target\" field serving as our response variable. This published dataset has been used in many previous studies, all of which have resulted in the use of the abouve 14 features. Therefore, rather than spending time on redundant feature selection, we decided it would be more worthwhile to use those 14 features, and look into which features may be more strongly correlated with clinical outcome.\n",
    "\n",
    "The 14 features are as below:  \n",
    "1. age\n",
    "2. sex \n",
    "3. cp (chest pain type)\n",
    "4. trestbps (resting blood pressure in mmHg on admission to hospital) \n",
    "5. chol (serum cholesterol in mg/dl)\n",
    "6. fbs (fasting blood sugar; binary (0/1) for condition fasting blood sugar > 120 mg/dl)\n",
    "7. restecg (resting ElectroCardioGraphic (ECG) results) (0 - normal; 1 - having ST-T wave abnormality (T wave inversions and/or ST elevation or depression of > 0.05 mV) \n",
    "8. thalach (maximum heart rate achieved)\n",
    "9. exang (exercise induced angine (binary 0/1)\n",
    "10. oldpeak (ST depression induced by exercise relative to rest)\n",
    "11. slope (the slope of the peak exercise ST segment 1 - upsloping; 2 - flat; 3 - downsloping)\n",
    "12. ca (number of major vessels (0-3) colored by fluorosopy\n",
    "13. thal (3 = normal, 6 = fixed defect, 7 = reversable defect)\n",
    "14. num (diagnosis of heart disease 0/1; 0 - <50% diameter narrowing; 1 - >50% diameter narrowing)\n",
    "\n",
    "Initial steps involve data cleaning to rectify missing, inconsistent entries and removing incorrect variables with imputation techniques as necessary. Post-cleaning, we undertake Exploratory Data Analysis (EDA) involving summary statistics and visualizations, providing insights into variable distributions and relationships with heart disease presence.\n",
    "\n",
    "A classification algorithm will be employed for predictive modeling, trained on a data subset, and evaluated via cross-validation.\n",
    "\n",
    "The predictive accuracy of our model will be visualized via a confusion matrix and Receiver Operating Characteristic (ROC) curve. Additionally, a feature importance plot will emphasize the most predictive variables. All steps are executed within the Jupyter notebook environment to ensure replicability."
   ]
  },
  {
   "cell_type": "markdown",
   "id": "c64845e8-9312-482b-9af8-7b40093764b7",
   "metadata": {},
   "source": [
    "### EXPECTED OUTCOMES AND SIGNIFICANCE: "
   ]
  },
  {
   "cell_type": "markdown",
   "id": "ed9efd01-27f5-48eb-a863-cdbed0945df4",
   "metadata": {},
   "source": [
    "Machine learning is becoming increasingly popular in the medical field, and many researchers and clinicians are interested in building an accurate prediction model for particular diseases based on clinical features. Although reliable prediction models are helpful in creating tailored treatment plans for patients, the exploratory analysis and validation process of building a classifier may be helpful in uncovering the biological mechanism of the disease itself. For example, certain clinical features may be more strongly correlated with clinical outcome. This may raise questions such as how certain variables play into the pathology of the disease, leading to further experimental questions. "
   ]
  },
  {
   "cell_type": "markdown",
   "id": "05a6bef0-57d1-43b6-8be7-4336703adc98",
   "metadata": {},
   "source": [
    "### DATA ANALYSIS"
   ]
  },
  {
   "cell_type": "code",
   "execution_count": 14,
   "id": "8f7a31e8-c850-4f15-9f4c-0825416c2910",
   "metadata": {},
   "outputs": [
    {
     "name": "stderr",
     "output_type": "stream",
     "text": [
      "\n",
      "\n",
      "\u001b[36m──\u001b[39m \u001b[1mRecipe\u001b[22m \u001b[36m──────────────────────────────────────────────────────────────────────────────────────────────────────────────\u001b[39m\n",
      "\n",
      "\n",
      "\n",
      "── Inputs \n",
      "\n",
      "Number of variables by role\n",
      "\n",
      "outcome:    1\n",
      "predictor: 13\n",
      "\n",
      "\n",
      "\n",
      "── Operations \n",
      "\n",
      "\u001b[36m•\u001b[39m Scaling for: \u001b[34mall_predictors()\u001b[39m\n",
      "\n",
      "\u001b[36m•\u001b[39m Centering for: \u001b[34mall_predictors()\u001b[39m\n",
      "\n"
     ]
    }
   ],
   "source": [
    "set.seed(20)\n",
    "#Creating the recipe\n",
    "heart_recipe <- recipe(target ~ age + sex + cp + trestbps + chol + fbs + restecg + thalach + exang + oldpeak + slope + ca + thal, \n",
    "                       data = heart_training) |>\n",
    "    step_scale(all_predictors()) |>\n",
    "    step_center(all_predictors())\n",
    "heart_recipe"
   ]
  },
  {
   "cell_type": "code",
   "execution_count": 15,
   "id": "2c41e6fb-daef-4d1f-93d8-74a34e5a678c",
   "metadata": {},
   "outputs": [],
   "source": [
    "set.seed(20) #Do not remove\n",
    "\n",
    "#Creating a K tune for training data\n",
    "knn_tune <- nearest_neighbor(weight_func = \"rectangular\", neighbors=tune()) |>\n",
    "    set_engine(\"kknn\")|>\n",
    "    set_mode(\"classification\")\n",
    "\n",
    "#Specifiying the amount of K\n",
    "k_vals <- tibble(neighbors = seq(from = 1, to = 50, by = 1))\n",
    "\n",
    "heart_vfold <- vfold_cv(heart_training, v = 10, strata = target)\n",
    "\n",
    "#Training the model\n",
    "knn_results <- workflow() |>\n",
    "    add_recipe(heart_recipe) |>\n",
    "    add_model(knn_tune) |>\n",
    "    tune_grid(resamples=heart_vfold, grid=k_vals) |>\n",
    "    collect_metrics()"
   ]
  },
  {
   "cell_type": "code",
   "execution_count": 16,
   "id": "b5de8967-a03f-44ff-bf5b-740f0e4e6a88",
   "metadata": {},
   "outputs": [
    {
     "data": {
      "text/html": [
       "<table class=\"dataframe\">\n",
       "<caption>A tibble: 6 × 7</caption>\n",
       "<thead>\n",
       "\t<tr><th scope=col>neighbors</th><th scope=col>.metric</th><th scope=col>.estimator</th><th scope=col>mean</th><th scope=col>n</th><th scope=col>std_err</th><th scope=col>.config</th></tr>\n",
       "\t<tr><th scope=col>&lt;dbl&gt;</th><th scope=col>&lt;chr&gt;</th><th scope=col>&lt;chr&gt;</th><th scope=col>&lt;dbl&gt;</th><th scope=col>&lt;int&gt;</th><th scope=col>&lt;dbl&gt;</th><th scope=col>&lt;chr&gt;</th></tr>\n",
       "</thead>\n",
       "<tbody>\n",
       "\t<tr><td>1</td><td>accuracy</td><td>binary</td><td>0.9882591</td><td>10</td><td>0.004554809</td><td>Preprocessor1_Model01</td></tr>\n",
       "\t<tr><td>1</td><td>roc_auc </td><td>binary</td><td>0.9883498</td><td>10</td><td>0.004581775</td><td>Preprocessor1_Model01</td></tr>\n",
       "\t<tr><td>2</td><td>accuracy</td><td>binary</td><td>0.9882591</td><td>10</td><td>0.004554809</td><td>Preprocessor1_Model02</td></tr>\n",
       "\t<tr><td>2</td><td>roc_auc </td><td>binary</td><td>0.9846918</td><td>10</td><td>0.005054841</td><td>Preprocessor1_Model02</td></tr>\n",
       "\t<tr><td>3</td><td>accuracy</td><td>binary</td><td>0.9233131</td><td>10</td><td>0.007708773</td><td>Preprocessor1_Model03</td></tr>\n",
       "\t<tr><td>3</td><td>roc_auc </td><td>binary</td><td>0.9736321</td><td>10</td><td>0.004378235</td><td>Preprocessor1_Model03</td></tr>\n",
       "</tbody>\n",
       "</table>\n"
      ],
      "text/latex": [
       "A tibble: 6 × 7\n",
       "\\begin{tabular}{lllllll}\n",
       " neighbors & .metric & .estimator & mean & n & std\\_err & .config\\\\\n",
       " <dbl> & <chr> & <chr> & <dbl> & <int> & <dbl> & <chr>\\\\\n",
       "\\hline\n",
       "\t 1 & accuracy & binary & 0.9882591 & 10 & 0.004554809 & Preprocessor1\\_Model01\\\\\n",
       "\t 1 & roc\\_auc  & binary & 0.9883498 & 10 & 0.004581775 & Preprocessor1\\_Model01\\\\\n",
       "\t 2 & accuracy & binary & 0.9882591 & 10 & 0.004554809 & Preprocessor1\\_Model02\\\\\n",
       "\t 2 & roc\\_auc  & binary & 0.9846918 & 10 & 0.005054841 & Preprocessor1\\_Model02\\\\\n",
       "\t 3 & accuracy & binary & 0.9233131 & 10 & 0.007708773 & Preprocessor1\\_Model03\\\\\n",
       "\t 3 & roc\\_auc  & binary & 0.9736321 & 10 & 0.004378235 & Preprocessor1\\_Model03\\\\\n",
       "\\end{tabular}\n"
      ],
      "text/markdown": [
       "\n",
       "A tibble: 6 × 7\n",
       "\n",
       "| neighbors &lt;dbl&gt; | .metric &lt;chr&gt; | .estimator &lt;chr&gt; | mean &lt;dbl&gt; | n &lt;int&gt; | std_err &lt;dbl&gt; | .config &lt;chr&gt; |\n",
       "|---|---|---|---|---|---|---|\n",
       "| 1 | accuracy | binary | 0.9882591 | 10 | 0.004554809 | Preprocessor1_Model01 |\n",
       "| 1 | roc_auc  | binary | 0.9883498 | 10 | 0.004581775 | Preprocessor1_Model01 |\n",
       "| 2 | accuracy | binary | 0.9882591 | 10 | 0.004554809 | Preprocessor1_Model02 |\n",
       "| 2 | roc_auc  | binary | 0.9846918 | 10 | 0.005054841 | Preprocessor1_Model02 |\n",
       "| 3 | accuracy | binary | 0.9233131 | 10 | 0.007708773 | Preprocessor1_Model03 |\n",
       "| 3 | roc_auc  | binary | 0.9736321 | 10 | 0.004378235 | Preprocessor1_Model03 |\n",
       "\n"
      ],
      "text/plain": [
       "  neighbors .metric  .estimator mean      n  std_err     .config              \n",
       "1 1         accuracy binary     0.9882591 10 0.004554809 Preprocessor1_Model01\n",
       "2 1         roc_auc  binary     0.9883498 10 0.004581775 Preprocessor1_Model01\n",
       "3 2         accuracy binary     0.9882591 10 0.004554809 Preprocessor1_Model02\n",
       "4 2         roc_auc  binary     0.9846918 10 0.005054841 Preprocessor1_Model02\n",
       "5 3         accuracy binary     0.9233131 10 0.007708773 Preprocessor1_Model03\n",
       "6 3         roc_auc  binary     0.9736321 10 0.004378235 Preprocessor1_Model03"
      ]
     },
     "metadata": {},
     "output_type": "display_data"
    }
   ],
   "source": [
    "head(knn_results)"
   ]
  },
  {
   "cell_type": "code",
   "execution_count": 17,
   "id": "1b3e3cd5-ab2f-4977-9154-c8d99f770f02",
   "metadata": {},
   "outputs": [],
   "source": [
    "#Checking Accuracies\n",
    "accuracies <- knn_results |>\n",
    "    filter(.metric == \"accuracy\")\n",
    "\n",
    "roc_auc <- knn_results |>\n",
    "    filter(.metric == \"roc_auc\")"
   ]
  },
  {
   "cell_type": "code",
   "execution_count": 18,
   "id": "320d11de-432c-4bac-8169-046f0f6eeab5",
   "metadata": {},
   "outputs": [
    {
     "data": {
      "image/png": "[encoded data removed]",
      "text/plain": [
       "plot without title"
      ]
     },
     "metadata": {
      "image/png": {
       "height": 360,
       "width": 600
      }
     },
     "output_type": "display_data"
    }
   ],
   "source": [
    "set.seed(20)\n",
    "#Plotting Accuracies\n",
    "accuracy_vs_k <- ggplot(accuracies, aes(x = neighbors, y = mean)) +\n",
    "    geom_point() + \n",
    "    geom_line(color = 'blue') +\n",
    "    labs(x = \"Neighbors\", y = \"Accuracy Estimate\") + \n",
    "    theme(text = element_text(size = 12)) + \n",
    "    ggtitle(\"Accuracy estimate with varying k values\") \n",
    "\n",
    "\n",
    "roc_auc_vs_k <- ggplot(roc_auc, aes(x = neighbors, y = mean)) + \n",
    "    geom_point() + \n",
    "    geom_line(color = 'blue') + \n",
    "    labs(x = \"Neighbors\", y = \"ROC AUC\") + \n",
    "    theme(text = element_text(size = 12)) + \n",
    "    ggtitle(\"ROC AUC\") \n",
    "\n",
    "cowplot::plot_grid(accuracy_vs_k, roc_auc_vs_k, nrow = 2)"
   ]
  },
  {
   "cell_type": "markdown",
   "id": "35925f86-3a05-4e55-90f2-687179df2bd9",
   "metadata": {},
   "source": [
    "Although ROC AUC was outside the scope of the `datasciencebook.ca` textbook, the accuracy estimate alone seemed to be inconclusive. So as additional information, the ROC AUC was also plotted to see if any `k` values were 'better' than others.  \n",
    "\n",
    "The k range from `k = 1` to `k = 5` show high accuracies and ROCs, but because this is a high-dimensional (many features/variables), we thought that k values that are too low may be subject to overfitting, and thus not as reliable. Ultimately we settled on `k = 3` and `k = 9`. We decided to explore the model with `k = 9` as the ROC curve shows a slight increase from `k = 5`, and there is a local maxima at `k = 9` on the accuracy estimate plot as well. We decided to use `k = 3` as it has a high accuracy, and we cannot say for sure it is overfit (at the moment). `k = 2` was left out since it has the exact same accuracy as `k = 1` (we considered this may also be overfit)."
   ]
  },
  {
   "cell_type": "markdown",
   "id": "6568f6d8-5c89-4a92-85ce-0570b3d69649",
   "metadata": {},
   "source": [
    "Create instances of the model for further investigation."
   ]
  },
  {
   "cell_type": "code",
   "execution_count": 19,
   "id": "cec3d709-ba80-44fc-b25c-eb07e2596e35",
   "metadata": {},
   "outputs": [],
   "source": [
    "#let's choose k=3 and k=9 and fit them onto the testing set\n",
    "set.seed(20)\n",
    "#Specifying the k for our model\n",
    "knn_spec3 <- nearest_neighbor(weight_func = \"rectangular\", neighbors=3) |>\n",
    "    set_engine(\"kknn\")|>\n",
    "    set_mode(\"classification\")\n",
    "\n",
    "knn_spec9 <- nearest_neighbor(weight_func = \"rectangular\", neighbors=9) |>\n",
    "    set_engine(\"kknn\")|>\n",
    "    set_mode(\"classification\")"
   ]
  },
  {
   "cell_type": "code",
   "execution_count": 20,
   "id": "c786f15e-423a-4a2d-a2bc-c74ecbc7c8bb",
   "metadata": {},
   "outputs": [],
   "source": [
    "set.seed(20)\n",
    "#Fitting the models onto the training set\n",
    "knn_fit3 <- workflow() |>\n",
    "    add_recipe(heart_recipe) |>\n",
    "    add_model(knn_spec3) |>\n",
    "    fit(data = heart_training)\n",
    "\n",
    "#This workflow is for k=9 (comment it if you do not need it)\n",
    "knn_fit9 <- workflow() |>\n",
    "    add_recipe(heart_recipe) |>\n",
    "    add_model(knn_spec9) |>\n",
    "    fit(data = heart_training)"
   ]
  },
  {
   "cell_type": "code",
   "execution_count": 21,
   "id": "27fdf111-be29-4026-9dba-6c11eaeabbf0",
   "metadata": {},
   "outputs": [],
   "source": [
    "set.seed(20)\n",
    "#Predicting process\n",
    "heart_test_predictions3 <- predict(knn_fit3, heart_testing) |>\n",
    "    bind_cols(heart_testing)\n",
    "\n",
    "heart_test_predictions9 <- predict(knn_fit9, heart_testing) |>\n",
    "    bind_cols(heart_testing)\n",
    "\n",
    "#glimpse(heart_test_predictions3)\n",
    "#glimpse(heart_test_predictions9)"
   ]
  },
  {
   "cell_type": "code",
   "execution_count": 22,
   "id": "9d5096e1-025f-41e7-9665-18785b1f09e8",
   "metadata": {},
   "outputs": [
    {
     "data": {
      "text/html": [
       "<table class=\"dataframe\">\n",
       "<caption>A tibble: 1 × 3</caption>\n",
       "<thead>\n",
       "\t<tr><th scope=col>.metric</th><th scope=col>.estimator</th><th scope=col>.estimate</th></tr>\n",
       "\t<tr><th scope=col>&lt;chr&gt;</th><th scope=col>&lt;chr&gt;</th><th scope=col>&lt;dbl&gt;</th></tr>\n",
       "</thead>\n",
       "<tbody>\n",
       "\t<tr><td>accuracy</td><td>binary</td><td>0.9494163</td></tr>\n",
       "</tbody>\n",
       "</table>\n"
      ],
      "text/latex": [
       "A tibble: 1 × 3\n",
       "\\begin{tabular}{lll}\n",
       " .metric & .estimator & .estimate\\\\\n",
       " <chr> & <chr> & <dbl>\\\\\n",
       "\\hline\n",
       "\t accuracy & binary & 0.9494163\\\\\n",
       "\\end{tabular}\n"
      ],
      "text/markdown": [
       "\n",
       "A tibble: 1 × 3\n",
       "\n",
       "| .metric &lt;chr&gt; | .estimator &lt;chr&gt; | .estimate &lt;dbl&gt; |\n",
       "|---|---|---|\n",
       "| accuracy | binary | 0.9494163 |\n",
       "\n"
      ],
      "text/plain": [
       "  .metric  .estimator .estimate\n",
       "1 accuracy binary     0.9494163"
      ]
     },
     "metadata": {},
     "output_type": "display_data"
    }
   ],
   "source": [
    "# Accuracy of the prediction of K=3 model on the testing set\n",
    "heart_test_predictions3 |>\n",
    "    metrics(truth = target, estimate = .pred_class) |>\n",
    "    filter(.metric == \"accuracy\")"
   ]
  },
  {
   "cell_type": "markdown",
   "id": "ee40090c-9932-4901-9500-c53885e7111a",
   "metadata": {},
   "source": [
    "We see that the accuracy is 94.9% with `k = 3`."
   ]
  },
  {
   "cell_type": "code",
   "execution_count": 23,
   "id": "98acb06d-16fc-4769-b818-c7531beaeef8",
   "metadata": {},
   "outputs": [
    {
     "data": {
      "text/html": [
       "<table class=\"dataframe\">\n",
       "<caption>A tibble: 1 × 3</caption>\n",
       "<thead>\n",
       "\t<tr><th scope=col>.metric</th><th scope=col>.estimator</th><th scope=col>.estimate</th></tr>\n",
       "\t<tr><th scope=col>&lt;chr&gt;</th><th scope=col>&lt;chr&gt;</th><th scope=col>&lt;dbl&gt;</th></tr>\n",
       "</thead>\n",
       "<tbody>\n",
       "\t<tr><td>accuracy</td><td>binary</td><td>0.8754864</td></tr>\n",
       "</tbody>\n",
       "</table>\n"
      ],
      "text/latex": [
       "A tibble: 1 × 3\n",
       "\\begin{tabular}{lll}\n",
       " .metric & .estimator & .estimate\\\\\n",
       " <chr> & <chr> & <dbl>\\\\\n",
       "\\hline\n",
       "\t accuracy & binary & 0.8754864\\\\\n",
       "\\end{tabular}\n"
      ],
      "text/markdown": [
       "\n",
       "A tibble: 1 × 3\n",
       "\n",
       "| .metric &lt;chr&gt; | .estimator &lt;chr&gt; | .estimate &lt;dbl&gt; |\n",
       "|---|---|---|\n",
       "| accuracy | binary | 0.8754864 |\n",
       "\n"
      ],
      "text/plain": [
       "  .metric  .estimator .estimate\n",
       "1 accuracy binary     0.8754864"
      ]
     },
     "metadata": {},
     "output_type": "display_data"
    }
   ],
   "source": [
    "heart_test_predictions9 |>\n",
    "    metrics(truth = target, estimate = .pred_class) |>\n",
    "    filter(.metric == \"accuracy\")"
   ]
  },
  {
   "cell_type": "markdown",
   "id": "4efc602a-76d8-40d5-bb0b-c73f404d93a0",
   "metadata": {},
   "source": [
    "The accuracy of the model with `k = 9` is 87.5%"
   ]
  },
  {
   "cell_type": "markdown",
   "id": "0558f14c-26db-4167-af6d-e988f98fd3f7",
   "metadata": {},
   "source": [
    "### Validation/Reality Check"
   ]
  },
  {
   "cell_type": "markdown",
   "id": "14b52f14-de19-4ce9-85eb-db0a864d1a40",
   "metadata": {},
   "source": [
    "In the above sections, it seems that `k = 3` is the best `k` parameter, and `k = 9` is the second best parameter. However, small values of `k` are subject to overfitting. Let's first begin by taking a closer look at the data and performance."
   ]
  },
  {
   "cell_type": "code",
   "execution_count": 24,
   "id": "9e9ebbb7-89f5-4c11-af34-5e135727b9f6",
   "metadata": {},
   "outputs": [
    {
     "name": "stdout",
     "output_type": "stream",
     "text": [
      "[1] \"For k = 3:\"\n",
      "[1] \"Heart disease negative group accuracy: 0.984\"\n",
      "[1] \"Heart disease positive group accuracy: 0.916666666666667\"\n"
     ]
    }
   ],
   "source": [
    "negative.group3 <- heart_test_predictions3[heart_test_predictions3$target == 0, c(\"target\", \".pred_class\")]\n",
    "positive.group3 <- heart_test_predictions3[heart_test_predictions3$target == 1, c(\"target\", \".pred_class\")]\n",
    "\n",
    "negative.group.accuracy3 <- negative.group3 |>\n",
    "    filter(negative.group3$.pred_class == 0) |>\n",
    "    nrow()\n",
    "positive.group.accuracy3 <- positive.group3 |>\n",
    "    filter(positive.group3$.pred_class == 1) |>\n",
    "    nrow()\n",
    "\n",
    "negative.group.accuracy3 <- negative.group.accuracy3/nrow(negative.group3)\n",
    "positive.group.accuracy3 <- positive.group.accuracy3/nrow(positive.group3)\n",
    "\n",
    "print(\"For k = 3:\")\n",
    "print(paste(\"Heart disease negative group accuracy:\", negative.group.accuracy3))\n",
    "print(paste(\"Heart disease positive group accuracy:\", positive.group.accuracy3))"
   ]
  },
  {
   "cell_type": "code",
   "execution_count": 25,
   "id": "cdca33d7-20bd-437e-af76-952a5dfd8f4e",
   "metadata": {},
   "outputs": [
    {
     "name": "stdout",
     "output_type": "stream",
     "text": [
      "[1] \"For k = 9\"\n",
      "[1] \"Heart disease negative group accuracy: 0.88\"\n",
      "[1] \"Heart disease positive group accuracy: 0.871212121212121\"\n"
     ]
    }
   ],
   "source": [
    "negative.group9 <- heart_test_predictions9[heart_test_predictions9$target == 0, c(\"target\", \".pred_class\")]\n",
    "positive.group9 <- heart_test_predictions9[heart_test_predictions9$target == 1, c(\"target\", \".pred_class\")]\n",
    "\n",
    "negative.group.accuracy9 <- negative.group9 |>\n",
    "    filter(negative.group9$.pred_class == 0) |>\n",
    "    nrow()\n",
    "positive.group.accuracy9 <- positive.group9 |>\n",
    "    filter(positive.group9$.pred_class == 1) |>\n",
    "    nrow()\n",
    "\n",
    "negative.group.accuracy9 <- negative.group.accuracy9/nrow(negative.group9)\n",
    "positive.group.accuracy9 <- positive.group.accuracy9/nrow(positive.group9)\n",
    "\n",
    "print(\"For k = 9\")\n",
    "print(paste(\"Heart disease negative group accuracy:\", negative.group.accuracy9))\n",
    "print(paste(\"Heart disease positive group accuracy:\", positive.group.accuracy9))"
   ]
  },
  {
   "cell_type": "code",
   "execution_count": 26,
   "id": "f806c4f1-d01e-49cd-a925-783d310a8feb",
   "metadata": {},
   "outputs": [],
   "source": [
    "random_labels <- round(runif(n = nrow(heart_data), min = 0, max = 1),0)"
   ]
  },
  {
   "cell_type": "code",
   "execution_count": 27,
   "id": "54cf29eb-d52f-45d9-b77b-8d6128770e6c",
   "metadata": {},
   "outputs": [],
   "source": [
    "# we will call the new dataset p.heart_data for 'permutation testing heart dataset'\n",
    "p.heart_data <- cbind(heart_data, random_labels) |>\n",
    "    mutate(random_labels = as_factor(random_labels))"
   ]
  },
  {
   "cell_type": "code",
   "execution_count": 28,
   "id": "ab14c8a8-7dc1-4690-8704-5db392ff2500",
   "metadata": {},
   "outputs": [
    {
     "data": {
      "text/html": [
       "<table class=\"dataframe\">\n",
       "<caption>A data.frame: 6 × 15</caption>\n",
       "<thead>\n",
       "\t<tr><th></th><th scope=col>age</th><th scope=col>sex</th><th scope=col>cp</th><th scope=col>trestbps</th><th scope=col>chol</th><th scope=col>fbs</th><th scope=col>restecg</th><th scope=col>thalach</th><th scope=col>exang</th><th scope=col>oldpeak</th><th scope=col>slope</th><th scope=col>ca</th><th scope=col>thal</th><th scope=col>target</th><th scope=col>random_labels</th></tr>\n",
       "\t<tr><th></th><th scope=col>&lt;dbl&gt;</th><th scope=col>&lt;dbl&gt;</th><th scope=col>&lt;dbl&gt;</th><th scope=col>&lt;dbl&gt;</th><th scope=col>&lt;dbl&gt;</th><th scope=col>&lt;dbl&gt;</th><th scope=col>&lt;dbl&gt;</th><th scope=col>&lt;dbl&gt;</th><th scope=col>&lt;dbl&gt;</th><th scope=col>&lt;dbl&gt;</th><th scope=col>&lt;dbl&gt;</th><th scope=col>&lt;dbl&gt;</th><th scope=col>&lt;dbl&gt;</th><th scope=col>&lt;fct&gt;</th><th scope=col>&lt;fct&gt;</th></tr>\n",
       "</thead>\n",
       "<tbody>\n",
       "\t<tr><th scope=row>1</th><td>52</td><td>1</td><td>0</td><td>125</td><td>212</td><td>0</td><td>1</td><td>168</td><td>0</td><td>1.0</td><td>2</td><td>2</td><td>3</td><td>0</td><td>1</td></tr>\n",
       "\t<tr><th scope=row>2</th><td>53</td><td>1</td><td>0</td><td>140</td><td>203</td><td>1</td><td>0</td><td>155</td><td>1</td><td>3.1</td><td>0</td><td>0</td><td>3</td><td>0</td><td>1</td></tr>\n",
       "\t<tr><th scope=row>3</th><td>70</td><td>1</td><td>0</td><td>145</td><td>174</td><td>0</td><td>1</td><td>125</td><td>1</td><td>2.6</td><td>0</td><td>0</td><td>3</td><td>0</td><td>0</td></tr>\n",
       "\t<tr><th scope=row>4</th><td>61</td><td>1</td><td>0</td><td>148</td><td>203</td><td>0</td><td>1</td><td>161</td><td>0</td><td>0.0</td><td>2</td><td>1</td><td>3</td><td>0</td><td>1</td></tr>\n",
       "\t<tr><th scope=row>5</th><td>62</td><td>0</td><td>0</td><td>138</td><td>294</td><td>1</td><td>1</td><td>106</td><td>0</td><td>1.9</td><td>1</td><td>3</td><td>2</td><td>0</td><td>1</td></tr>\n",
       "\t<tr><th scope=row>6</th><td>58</td><td>0</td><td>0</td><td>100</td><td>248</td><td>0</td><td>0</td><td>122</td><td>0</td><td>1.0</td><td>1</td><td>0</td><td>2</td><td>1</td><td>1</td></tr>\n",
       "</tbody>\n",
       "</table>\n"
      ],
      "text/latex": [
       "A data.frame: 6 × 15\n",
       "\\begin{tabular}{r|lllllllllllllll}\n",
       "  & age & sex & cp & trestbps & chol & fbs & restecg & thalach & exang & oldpeak & slope & ca & thal & target & random\\_labels\\\\\n",
       "  & <dbl> & <dbl> & <dbl> & <dbl> & <dbl> & <dbl> & <dbl> & <dbl> & <dbl> & <dbl> & <dbl> & <dbl> & <dbl> & <fct> & <fct>\\\\\n",
       "\\hline\n",
       "\t1 & 52 & 1 & 0 & 125 & 212 & 0 & 1 & 168 & 0 & 1.0 & 2 & 2 & 3 & 0 & 1\\\\\n",
       "\t2 & 53 & 1 & 0 & 140 & 203 & 1 & 0 & 155 & 1 & 3.1 & 0 & 0 & 3 & 0 & 1\\\\\n",
       "\t3 & 70 & 1 & 0 & 145 & 174 & 0 & 1 & 125 & 1 & 2.6 & 0 & 0 & 3 & 0 & 0\\\\\n",
       "\t4 & 61 & 1 & 0 & 148 & 203 & 0 & 1 & 161 & 0 & 0.0 & 2 & 1 & 3 & 0 & 1\\\\\n",
       "\t5 & 62 & 0 & 0 & 138 & 294 & 1 & 1 & 106 & 0 & 1.9 & 1 & 3 & 2 & 0 & 1\\\\\n",
       "\t6 & 58 & 0 & 0 & 100 & 248 & 0 & 0 & 122 & 0 & 1.0 & 1 & 0 & 2 & 1 & 1\\\\\n",
       "\\end{tabular}\n"
      ],
      "text/markdown": [
       "\n",
       "A data.frame: 6 × 15\n",
       "\n",
       "| <!--/--> | age &lt;dbl&gt; | sex &lt;dbl&gt; | cp &lt;dbl&gt; | trestbps &lt;dbl&gt; | chol &lt;dbl&gt; | fbs &lt;dbl&gt; | restecg &lt;dbl&gt; | thalach &lt;dbl&gt; | exang &lt;dbl&gt; | oldpeak &lt;dbl&gt; | slope &lt;dbl&gt; | ca &lt;dbl&gt; | thal &lt;dbl&gt; | target &lt;fct&gt; | random_labels &lt;fct&gt; |\n",
       "|---|---|---|---|---|---|---|---|---|---|---|---|---|---|---|---|\n",
       "| 1 | 52 | 1 | 0 | 125 | 212 | 0 | 1 | 168 | 0 | 1.0 | 2 | 2 | 3 | 0 | 1 |\n",
       "| 2 | 53 | 1 | 0 | 140 | 203 | 1 | 0 | 155 | 1 | 3.1 | 0 | 0 | 3 | 0 | 1 |\n",
       "| 3 | 70 | 1 | 0 | 145 | 174 | 0 | 1 | 125 | 1 | 2.6 | 0 | 0 | 3 | 0 | 0 |\n",
       "| 4 | 61 | 1 | 0 | 148 | 203 | 0 | 1 | 161 | 0 | 0.0 | 2 | 1 | 3 | 0 | 1 |\n",
       "| 5 | 62 | 0 | 0 | 138 | 294 | 1 | 1 | 106 | 0 | 1.9 | 1 | 3 | 2 | 0 | 1 |\n",
       "| 6 | 58 | 0 | 0 | 100 | 248 | 0 | 0 | 122 | 0 | 1.0 | 1 | 0 | 2 | 1 | 1 |\n",
       "\n"
      ],
      "text/plain": [
       "  age sex cp trestbps chol fbs restecg thalach exang oldpeak slope ca thal\n",
       "1 52  1   0  125      212  0   1       168     0     1.0     2     2  3   \n",
       "2 53  1   0  140      203  1   0       155     1     3.1     0     0  3   \n",
       "3 70  1   0  145      174  0   1       125     1     2.6     0     0  3   \n",
       "4 61  1   0  148      203  0   1       161     0     0.0     2     1  3   \n",
       "5 62  0   0  138      294  1   1       106     0     1.9     1     3  2   \n",
       "6 58  0   0  100      248  0   0       122     0     1.0     1     0  2   \n",
       "  target random_labels\n",
       "1 0      1            \n",
       "2 0      1            \n",
       "3 0      0            \n",
       "4 0      1            \n",
       "5 0      1            \n",
       "6 1      1            "
      ]
     },
     "metadata": {},
     "output_type": "display_data"
    }
   ],
   "source": [
    "head(p.heart_data)"
   ]
  },
  {
   "cell_type": "markdown",
   "id": "7b5bfb51-b99f-4d29-804a-c0b7a41d1f6f",
   "metadata": {},
   "source": [
    "We will repeat the training and evaluation using `k = 3` to see if the model has learned something better than random guessing."
   ]
  },
  {
   "cell_type": "code",
   "execution_count": 29,
   "id": "19bce621-bf1c-4d44-aecf-ae79fd147e54",
   "metadata": {},
   "outputs": [],
   "source": [
    "set.seed(20) #Do not remove\n",
    "p.heart_split <- initial_split(p.heart_data, prop = 0.75, strata = random_labels)\n",
    "p.heart_training <- training(p.heart_split)\n",
    "p.heart_testing <- testing(heart_split)\n",
    "\n",
    "p.knn_tune <- nearest_neighbor(weight_func = \"rectangular\", neighbors=tune()) |>\n",
    "    set_engine(\"kknn\")|>\n",
    "    set_mode(\"classification\")\n",
    "\n",
    "p.heart_recipe <- recipe(random_labels ~ age + sex + cp + trestbps + chol + fbs + restecg + thalach + exang + oldpeak + slope + ca + thal,\n",
    "                         data = p.heart_training) |>\n",
    "    step_scale(all_predictors()) |>\n",
    "    step_center(all_predictors())\n",
    "\n",
    "#Specifiying the amount of K\n",
    "k_vals <- tibble(neighbors = seq(from = 1, to = 50, by = 1))\n",
    "\n",
    "p.heart_vfold <- vfold_cv(p.heart_training, v = 10, strata = target)\n",
    "\n",
    "#Training the model\n",
    "knn_results <- workflow() |>\n",
    "    add_recipe(p.heart_recipe) |>\n",
    "    add_model(p.knn_tune) |>\n",
    "    tune_grid(resamples=p.heart_vfold, grid=k_vals) |>\n",
    "    collect_metrics()"
   ]
  },
  {
   "cell_type": "code",
   "execution_count": 30,
   "id": "b51aedc7-3d18-46b7-86eb-53e2ad96606b",
   "metadata": {},
   "outputs": [],
   "source": [
    "#Checking Accuracies\n",
    "p.accuracies <- knn_results |>\n",
    "  filter(.metric == \"accuracy\")\n",
    "\n",
    "p.roc_auc <- knn_results |>\n",
    "    filter(.metric == \"roc_auc\")"
   ]
  },
  {
   "cell_type": "code",
   "execution_count": 31,
   "id": "10624da9-17b6-480e-9fbf-c350d343832b",
   "metadata": {},
   "outputs": [
    {
     "data": {
      "image/png": "[encoded data removed]",
      "text/plain": [
       "plot without title"
      ]
     },
     "metadata": {
      "image/png": {
       "height": 360,
       "width": 600
      }
     },
     "output_type": "display_data"
    }
   ],
   "source": [
    "set.seed(20)\n",
    "#Plotting Accuracies\n",
    "p.accuracy_vs_k <- ggplot(p.accuracies, aes(x = neighbors, y = mean)) +\n",
    "    geom_point() + \n",
    "    geom_line(color = 'blue') +\n",
    "    labs(x = \"Neighbors\", y = \"Accuracy Estimate\") + \n",
    "    theme(text = element_text(size = 12)) + \n",
    "    ggtitle(\"Accuracy estimate with varying k values\") \n",
    "\n",
    "p.roc_auc_vs_k <- ggplot(p.roc_auc, aes(x = neighbors, y = mean)) + \n",
    "    geom_point() + \n",
    "    geom_line(color = 'blue') + \n",
    "    labs(x = \"Neighbors\", y = \"ROC AUC\") + \n",
    "    theme(text = element_text(size = 12)) + \n",
    "    ggtitle(\"ROC AUC\") \n",
    "\n",
    "cowplot::plot_grid(p.accuracy_vs_k, p.roc_auc_vs_k, nrow = 2)"
   ]
  },
  {
   "cell_type": "markdown",
   "id": "f06af517-d855-4fd3-a437-7692e369c38d",
   "metadata": {},
   "source": [
    "If the model is overfitting, (as in, learning very specifically to the data, and not the overall general pattern), then the model should still perform with high accuracy with randomized labels. However, we see that this is not the case. This may indicate that the KNN classifier is identifying patterns in the data which are relevant to the class label. This testing is based on the paper [Permutation Tests for Studying Classifier Performance](https://www.jmlr.org/papers/volume11/ojala10a/ojala10a.pdf)."
   ]
  },
  {
   "cell_type": "markdown",
   "id": "bcd2ad1c-8343-4e5c-b926-12dde6ccc789",
   "metadata": {},
   "source": [
    "#### Identifying the Best 3 Predictors"
   ]
  },
  {
   "cell_type": "markdown",
   "id": "cd321d17-9e57-4142-bc9f-a78579fbdf6d",
   "metadata": {},
   "source": [
    "The [curse of dimensionality](https://link.springer.com/referenceworkentry/10.1007/978-1-4899-7687-1_192) is a well known phenomenon in machine learning, where distance metrics such as euclidean distance (rectangular weight function in the knn classifier) break down, as the addition of more features causes the differences (and similarities between each feature between observations to be more 'dilute'. Thus it is important to find a good set of predictors, both for the sake of machine learning, and for the clinical research problem. We will look at the top 3 features which give the best predictions (as individual features)."
   ]
  },
  {
   "cell_type": "code",
   "execution_count": 32,
   "id": "300ffe3e-7c18-453d-ba9c-c2586b00f173",
   "metadata": {},
   "outputs": [],
   "source": [
    "feature.names <- colnames(heart_data |> select(-target))"
   ]
  },
  {
   "cell_type": "code",
   "execution_count": 33,
   "id": "869a73cf-de95-4a33-a879-acd9ed37f7ba",
   "metadata": {},
   "outputs": [],
   "source": [
    "measures <- tibble(feat_name = character(),\n",
    "                   accuracy.measure = numeric())\n",
    "\n",
    "for (i in 1:length(feature.names)) {\n",
    "    knn_spec <- nearest_neighbor(weight_func = \"rectangular\", neighbors = 3) |>\n",
    "        set_engine(\"kknn\") |>\n",
    "        set_mode(\"classification\")\n",
    "    \n",
    "    k.vfold <- vfold_cv(heart_training, v = 5, strata = target)\n",
    "    feature <- feature.names[[i]]\n",
    "    k.recipe <- recipe(as.formula(paste0(\"target\",\"~\",feature)), data = heart_training) \n",
    "    \n",
    "    k.fit <- workflow() |>\n",
    "        add_recipe(k.recipe) |>\n",
    "        add_model(knn_spec) |>\n",
    "        fit(heart_training)\n",
    "    \n",
    "    predictions <- predict(k.fit, heart_testing) |>\n",
    "        cbind(heart_testing)\n",
    "    accuracy <- predictions |> \n",
    "        metrics(truth = target, estimate = .pred_class) |>\n",
    "        filter(.metric == 'accuracy') |>\n",
    "        pull(.estimate)\n",
    "    measures <- measures |>\n",
    "        add_row(feat_name = feature, \n",
    "                accuracy.measure = accuracy)\n",
    "}"
   ]
  },
  {
   "cell_type": "code",
   "execution_count": 34,
   "id": "a15d15fe-c664-46ce-aac5-5f247bb08cce",
   "metadata": {},
   "outputs": [],
   "source": [
    "top3 <- measures |>\n",
    "    arrange(desc(measures$accuracy.measure)) |>\n",
    "    slice(1:3)"
   ]
  },
  {
   "cell_type": "code",
   "execution_count": 35,
   "id": "f4e22176-4f37-4db1-81e0-fd103127fab9",
   "metadata": {},
   "outputs": [
    {
     "data": {
      "text/html": [
       "<table class=\"dataframe\">\n",
       "<caption>A tibble: 3 × 2</caption>\n",
       "<thead>\n",
       "\t<tr><th scope=col>feat_name</th><th scope=col>accuracy.measure</th></tr>\n",
       "\t<tr><th scope=col>&lt;chr&gt;</th><th scope=col>&lt;dbl&gt;</th></tr>\n",
       "</thead>\n",
       "<tbody>\n",
       "\t<tr><td>chol    </td><td>0.7509728</td></tr>\n",
       "\t<tr><td>thalach </td><td>0.6303502</td></tr>\n",
       "\t<tr><td>trestbps</td><td>0.5408560</td></tr>\n",
       "</tbody>\n",
       "</table>\n"
      ],
      "text/latex": [
       "A tibble: 3 × 2\n",
       "\\begin{tabular}{ll}\n",
       " feat\\_name & accuracy.measure\\\\\n",
       " <chr> & <dbl>\\\\\n",
       "\\hline\n",
       "\t chol     & 0.7509728\\\\\n",
       "\t thalach  & 0.6303502\\\\\n",
       "\t trestbps & 0.5408560\\\\\n",
       "\\end{tabular}\n"
      ],
      "text/markdown": [
       "\n",
       "A tibble: 3 × 2\n",
       "\n",
       "| feat_name &lt;chr&gt; | accuracy.measure &lt;dbl&gt; |\n",
       "|---|---|\n",
       "| chol     | 0.7509728 |\n",
       "| thalach  | 0.6303502 |\n",
       "| trestbps | 0.5408560 |\n",
       "\n"
      ],
      "text/plain": [
       "  feat_name accuracy.measure\n",
       "1 chol      0.7509728       \n",
       "2 thalach   0.6303502       \n",
       "3 trestbps  0.5408560       "
      ]
     },
     "metadata": {},
     "output_type": "display_data"
    }
   ],
   "source": [
    "top3"
   ]
  },
  {
   "cell_type": "markdown",
   "id": "bc7af534-8cfc-4d50-9fda-e168c2577112",
   "metadata": {},
   "source": [
    "The three features that give the highest accuracies (when used alone as the predictor) are `chol`, `thalach`, and `trestbps`."
   ]
  },
  {
   "cell_type": "markdown",
   "id": "b4ee0c16-4397-4c8a-adcc-6c5ac94a4eb3",
   "metadata": {},
   "source": [
    "Just because a feature performs (relatively) better than others when it is the sole predictor variable, does not mean it is among the best features to use when used in conjunction with other features. To identify which features (used together) are best for this classification, a feature selection process should be done such as forward feature selection."
   ]
  },
  {
   "cell_type": "code",
   "execution_count": null,
   "id": "ff6b8d2c-a1d8-4ecb-a166-16719e008aba",
   "metadata": {},
   "outputs": [],
   "source": []
  }
 ],
 "metadata": {
  "kernelspec": {
   "display_name": "R",
   "language": "R",
   "name": "ir"
  },
  "language_info": {
   "codemirror_mode": "r",
   "file_extension": ".r",
   "mimetype": "text/x-r-source",
   "name": "R",
   "pygments_lexer": "r",
   "version": "4.2.3"
  }
 },
 "nbformat": 4,
 "nbformat_minor": 5
}
